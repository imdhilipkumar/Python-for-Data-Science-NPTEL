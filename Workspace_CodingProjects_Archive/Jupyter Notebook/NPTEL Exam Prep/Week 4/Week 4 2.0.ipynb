{
 "cells": [
  {
   "cell_type": "markdown",
   "id": "ee5976a8-50e9-4ad8-a5d5-3ec14ef17e9e",
   "metadata": {},
   "source": [
    "\n",
    "The Global Happiness Index report contains the Happiness Score data with multiple features (namely the Economy, Family, Health, and Freedom) that could affect the target variable value.\n",
    "\n",
    "Prepare the data by following the steps given below, and answer question 10.\n",
    "\n",
    "\t• Split the set of independent features and the dependent feature on the given dataset\n",
    "\n",
    "\t• Create training and testing data from the set of independent features and dependent feature by splitting the original data in the ratio 3:1 respectively, and set the value for random_state of the training/test split method’s instance as 1 \n",
    "\n",
    "    A multiple linear regression model is built on the Global Happiness Index dataset ‘GHI Report.csv’. What is the RMSE of the baseline model?"
   ]
  },
  {
   "cell_type": "code",
   "execution_count": 4,
   "id": "da21352f-d15a-418c-8eac-054293105e78",
   "metadata": {},
   "outputs": [],
   "source": [
    "import pandas as pd\n",
    "import numpy as np\n",
    "from sklearn.model_selection import train_test_split\n",
    "from sklearn.linear_model import LinearRegression\n",
    "from sklearn.metrics import mean_squared_error"
   ]
  },
  {
   "cell_type": "code",
   "execution_count": 6,
   "id": "668eaea3-405e-45fa-81c9-8eafbecb6e30",
   "metadata": {},
   "outputs": [
    {
     "data": {
      "text/html": [
       "<div>\n",
       "<style scoped>\n",
       "    .dataframe tbody tr th:only-of-type {\n",
       "        vertical-align: middle;\n",
       "    }\n",
       "\n",
       "    .dataframe tbody tr th {\n",
       "        vertical-align: top;\n",
       "    }\n",
       "\n",
       "    .dataframe thead th {\n",
       "        text-align: right;\n",
       "    }\n",
       "</style>\n",
       "<table border=\"1\" class=\"dataframe\">\n",
       "  <thead>\n",
       "    <tr style=\"text-align: right;\">\n",
       "      <th></th>\n",
       "      <th>Economy</th>\n",
       "      <th>Fam</th>\n",
       "      <th>Health</th>\n",
       "      <th>Freedom</th>\n",
       "      <th>H_Score</th>\n",
       "    </tr>\n",
       "  </thead>\n",
       "  <tbody>\n",
       "    <tr>\n",
       "      <th>0</th>\n",
       "      <td>1.39651</td>\n",
       "      <td>1.34951</td>\n",
       "      <td>0.94143</td>\n",
       "      <td>0.66557</td>\n",
       "      <td>7.587</td>\n",
       "    </tr>\n",
       "    <tr>\n",
       "      <th>1</th>\n",
       "      <td>1.30232</td>\n",
       "      <td>1.40223</td>\n",
       "      <td>0.94784</td>\n",
       "      <td>0.62877</td>\n",
       "      <td>7.561</td>\n",
       "    </tr>\n",
       "    <tr>\n",
       "      <th>2</th>\n",
       "      <td>1.32548</td>\n",
       "      <td>1.36058</td>\n",
       "      <td>0.87464</td>\n",
       "      <td>0.64938</td>\n",
       "      <td>7.527</td>\n",
       "    </tr>\n",
       "    <tr>\n",
       "      <th>3</th>\n",
       "      <td>1.45900</td>\n",
       "      <td>1.33095</td>\n",
       "      <td>0.88521</td>\n",
       "      <td>0.66973</td>\n",
       "      <td>7.522</td>\n",
       "    </tr>\n",
       "    <tr>\n",
       "      <th>4</th>\n",
       "      <td>1.32629</td>\n",
       "      <td>1.32261</td>\n",
       "      <td>0.90563</td>\n",
       "      <td>0.63297</td>\n",
       "      <td>7.427</td>\n",
       "    </tr>\n",
       "    <tr>\n",
       "      <th>...</th>\n",
       "      <td>...</td>\n",
       "      <td>...</td>\n",
       "      <td>...</td>\n",
       "      <td>...</td>\n",
       "      <td>...</td>\n",
       "    </tr>\n",
       "    <tr>\n",
       "      <th>153</th>\n",
       "      <td>0.22208</td>\n",
       "      <td>0.77370</td>\n",
       "      <td>0.42864</td>\n",
       "      <td>0.59201</td>\n",
       "      <td>3.465</td>\n",
       "    </tr>\n",
       "    <tr>\n",
       "      <th>154</th>\n",
       "      <td>0.28665</td>\n",
       "      <td>0.35386</td>\n",
       "      <td>0.31910</td>\n",
       "      <td>0.48450</td>\n",
       "      <td>3.340</td>\n",
       "    </tr>\n",
       "    <tr>\n",
       "      <th>155</th>\n",
       "      <td>0.66320</td>\n",
       "      <td>0.47489</td>\n",
       "      <td>0.72193</td>\n",
       "      <td>0.15684</td>\n",
       "      <td>3.006</td>\n",
       "    </tr>\n",
       "    <tr>\n",
       "      <th>156</th>\n",
       "      <td>0.01530</td>\n",
       "      <td>0.41587</td>\n",
       "      <td>0.22396</td>\n",
       "      <td>0.11850</td>\n",
       "      <td>2.905</td>\n",
       "    </tr>\n",
       "    <tr>\n",
       "      <th>157</th>\n",
       "      <td>0.20868</td>\n",
       "      <td>0.13995</td>\n",
       "      <td>0.28443</td>\n",
       "      <td>0.36453</td>\n",
       "      <td>2.839</td>\n",
       "    </tr>\n",
       "  </tbody>\n",
       "</table>\n",
       "<p>158 rows × 5 columns</p>\n",
       "</div>"
      ],
      "text/plain": [
       "     Economy      Fam   Health  Freedom  H_Score\n",
       "0    1.39651  1.34951  0.94143  0.66557    7.587\n",
       "1    1.30232  1.40223  0.94784  0.62877    7.561\n",
       "2    1.32548  1.36058  0.87464  0.64938    7.527\n",
       "3    1.45900  1.33095  0.88521  0.66973    7.522\n",
       "4    1.32629  1.32261  0.90563  0.63297    7.427\n",
       "..       ...      ...      ...      ...      ...\n",
       "153  0.22208  0.77370  0.42864  0.59201    3.465\n",
       "154  0.28665  0.35386  0.31910  0.48450    3.340\n",
       "155  0.66320  0.47489  0.72193  0.15684    3.006\n",
       "156  0.01530  0.41587  0.22396  0.11850    2.905\n",
       "157  0.20868  0.13995  0.28443  0.36453    2.839\n",
       "\n",
       "[158 rows x 5 columns]"
      ]
     },
     "execution_count": 6,
     "metadata": {},
     "output_type": "execute_result"
    }
   ],
   "source": [
    "data = pd.read_csv(\"GHI_Report.csv\")\n",
    "data"
   ]
  },
  {
   "cell_type": "code",
   "execution_count": 7,
   "id": "4ba1b54a-07d0-4c34-ad6a-a14e436bac03",
   "metadata": {},
   "outputs": [
    {
     "data": {
      "text/plain": [
       "Index(['Economy', 'Fam', 'Health', 'Freedom', 'H_Score'], dtype='object')"
      ]
     },
     "execution_count": 7,
     "metadata": {},
     "output_type": "execute_result"
    }
   ],
   "source": [
    "data.columns"
   ]
  },
  {
   "cell_type": "code",
   "execution_count": 23,
   "id": "17e24011-6e2f-45ac-98a4-85b4b5ff3d5f",
   "metadata": {},
   "outputs": [],
   "source": [
    "new_data = pd.get_dummies(data, drop_first=True)"
   ]
  },
  {
   "cell_type": "code",
   "execution_count": 24,
   "id": "d040e109-3c89-445b-92cb-d9bc180407cd",
   "metadata": {},
   "outputs": [],
   "source": [
    "#  Split the set of independent features and the dependent feature on the given dataset\n",
    "x = new_data[['Economy', 'Fam', 'Health', 'Freedom']]\n",
    "y = new_data['H_Score']"
   ]
  },
  {
   "cell_type": "code",
   "execution_count": 9,
   "id": "4e3bf7b2-0306-4cc9-883b-08276671af01",
   "metadata": {},
   "outputs": [],
   "source": [
    "#Create training and testing data from the set of independent features and dependent feature by splitting the original data in the ratio 3:1 respectively\n",
    "\n",
    "# and set the value for random_state of the training/test split method’s instance as 1 "
   ]
  },
  {
   "cell_type": "code",
   "execution_count": 25,
   "id": "d1fc81f5-5b1a-434f-be95-dee076d0c6c7",
   "metadata": {},
   "outputs": [],
   "source": [
    "x_train, x_test, y_train, y_test = train_test_split(x, y, test_size = .3, random_state = 1)"
   ]
  },
  {
   "cell_type": "code",
   "execution_count": null,
   "id": "30046cd3-dac5-4aed-af76-1bf6405abcf0",
   "metadata": {},
   "outputs": [],
   "source": [
    "#What is the RMSE of the baseline model?"
   ]
  },
  {
   "cell_type": "code",
   "execution_count": 26,
   "id": "0ee10148-0e84-4c28-991e-52d93f976ddc",
   "metadata": {},
   "outputs": [
    {
     "name": "stdout",
     "output_type": "stream",
     "text": [
      "[6.12570301 4.78087618 6.67152071 5.55337142 4.75004016 6.63804743\n",
      " 5.57885438 6.36270819 6.22894463 4.85987239 4.75824031 5.40956262\n",
      " 4.0733468  5.17639519 5.93076565 5.66971133 5.61517733 6.00599257\n",
      " 5.00819215 4.50394834 6.36597269 6.54084407 4.12452963 6.84566436\n",
      " 4.71073095 6.33970939 6.95361982 5.60230386 3.97617625 4.73371968\n",
      " 4.60472424 2.92282229 4.3485387  6.06262423 5.36130551 5.41399339\n",
      " 4.57784836 5.89871877 6.19738191 3.30333972 5.64832881 4.24000414\n",
      " 4.61923401 6.83444714 6.61184037 5.09413632 6.64642478 5.85172776]\n"
     ]
    }
   ],
   "source": [
    "model = LinearRegression()\n",
    "model.fit(x_train, y_train)\n",
    "#Predict the model\n",
    "prediction = model.predict(x_test)\n",
    "print(prediction)"
   ]
  },
  {
   "cell_type": "code",
   "execution_count": 28,
   "id": "baccb9eb-284c-4177-89c9-4a4c7053a3f2",
   "metadata": {},
   "outputs": [
    {
     "data": {
      "text/plain": [
       "0.44756453607749624"
      ]
     },
     "execution_count": 28,
     "metadata": {},
     "output_type": "execute_result"
    }
   ],
   "source": [
    "rmse = np.sqrt(mean_squared_error(y_test, prediction))\n",
    "rmse"
   ]
  }
 ],
 "metadata": {
  "kernelspec": {
   "display_name": "Python 3 (ipykernel)",
   "language": "python",
   "name": "python3"
  },
  "language_info": {
   "codemirror_mode": {
    "name": "ipython",
    "version": 3
   },
   "file_extension": ".py",
   "mimetype": "text/x-python",
   "name": "python",
   "nbconvert_exporter": "python",
   "pygments_lexer": "ipython3",
   "version": "3.12.7"
  }
 },
 "nbformat": 4,
 "nbformat_minor": 5
}
