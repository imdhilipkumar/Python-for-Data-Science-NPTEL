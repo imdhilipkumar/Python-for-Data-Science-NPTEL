# import the necessary libaray
import os  # help to chagne the workng directory

os.chdir(r"D:\Code-Hero-Hub\PYTHON\Data Science\Spyder") # chaging the working directory
import pandas as pd # work with the data frames

import numpy as np # work with numerical operation

import matplotlib.pyplot as plt # work with the data  Visualization

# import the data set
car_data = pd.read_csv("Toyota.csv")
data = pd.read_csv("Toyota.csv")

#Find out the null values and remove the extra column
data = pd.read_csv("Toyota.csv", index_col=0, na_values=["??","????"])

# Remove the null values
data.dropna(axis = 0, inplace = True)

# Scatter plot

plt.scatter((data["Age"]), data["Price"], c ="Green")
plt.title("Scatter Plot of Age & Price")
plt.xlabel("Age")
plt.ylabel("Price")
plt.show() 