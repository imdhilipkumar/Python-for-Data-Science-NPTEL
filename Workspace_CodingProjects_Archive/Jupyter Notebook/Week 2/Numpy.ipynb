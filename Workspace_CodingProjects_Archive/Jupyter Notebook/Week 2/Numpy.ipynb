{
 "cells": [
  {
   "cell_type": "markdown",
   "id": "1b239701-b63c-4b3e-bdfd-f60270b19fa7",
   "metadata": {},
   "source": [
    "### **<center>NumPy</center>**"
   ]
  },
  {
   "cell_type": "markdown",
   "id": "d0b6a069-8fbc-46c6-8652-06d1b0342a7e",
   "metadata": {},
   "source": [
    "##### NumPy is a Python library used for numerical computing. It provides a powerful data structure called arrays (specifically, ndarray), which is more efficient than Python lists for handling large datasets and performing mathematical operations.\n",
    "\n",
    "##### **Uses of NumPy**\n",
    "\n",
    "##### **Fast Performance** – NumPy arrays are faster than Python lists because they store data in contiguous memory blocks and use optimized C-based operations.\n",
    "##### **Efficient Memory Usage** – NumPy arrays use less memory compared to lists, making them suitable for large datasets.\n",
    "##### **Mathematical and Statistical Functions** – Provides built-in functions for operations like mean, median, standard deviation, etc.\n",
    "##### **Vectorized Operations** – NumPy allows element-wise operations without explicit loops, improving speed and efficiency.\n",
    "##### **Integration with Other Libraries** – Libraries like Pandas, SciPy, TensorFlow, and Scikit-learn rely on NumPy for numerical computations."
   ]
  },
  {
   "cell_type": "markdown",
   "id": "72d0fa5f-2f91-424c-9867-46693c256f58",
   "metadata": {},
   "source": [
    "##### **Creating a NumPy Array**"
   ]
  },
  {
   "cell_type": "code",
   "execution_count": 5,
   "id": "e315cbf1-95af-409a-ac08-ceee4af0db09",
   "metadata": {},
   "outputs": [
    {
     "name": "stdout",
     "output_type": "stream",
     "text": [
      "[ 1  2  3  4  5  6  7  8  9 10]\n"
     ]
    }
   ],
   "source": [
    "import numpy as np\n",
    "arr = np.array([1, 2, 3, 4, 5, 6, 7, 8, 9, 10])\n",
    "print(arr)"
   ]
  },
  {
   "cell_type": "code",
   "execution_count": 20,
   "id": "e51ec250-9c39-4f13-8783-62ac3407f826",
   "metadata": {},
   "outputs": [
    {
     "data": {
      "text/plain": [
       "array([[ 1,  2],\n",
       "       [ 3,  4],\n",
       "       [ 5,  6],\n",
       "       [ 7,  8],\n",
       "       [ 9, 10]])"
      ]
     },
     "execution_count": 20,
     "metadata": {},
     "output_type": "execute_result"
    }
   ],
   "source": [
    "type(arr)\n",
    "len(arr)\n",
    "arr.ndim\n",
    "arr.shape\n",
    "arr.reshape(5, -2)"
   ]
  },
  {
   "cell_type": "code",
   "execution_count": 27,
   "id": "72020fa6-d2a8-4e73-a324-8a773dfbee7d",
   "metadata": {},
   "outputs": [
    {
     "name": "stdout",
     "output_type": "stream",
     "text": [
      "[[1 2 3 4 5 6]\n",
      " [2 3 4 5 6 8]\n",
      " [9 6 5 7 4 3]]\n"
     ]
    }
   ],
   "source": [
    "#Initalized the numpy array from nested python list\n",
    "mylist1 = [1, 2, 3, 4, 5, 6]\n",
    "mylist2 = [2, 3, 4, 5, 6, 8]\n",
    "mylist3 = [9, 6, 5, 7, 4, 3]\n",
    "mul_arr = np.array([mylist1, mylist2, mylist3])\n",
    "print(mul_arr)"
   ]
  },
  {
   "cell_type": "code",
   "execution_count": 21,
   "id": "a6593d26-acb0-4a61-9e8d-fe9229404bce",
   "metadata": {},
   "outputs": [
    {
     "name": "stdout",
     "output_type": "stream",
     "text": [
      "[1 2 3 4 5]\n",
      "[[1 2 3]\n",
      " [4 5 6]]\n",
      "[[0. 0. 0.]\n",
      " [0. 0. 0.]\n",
      " [0. 0. 0.]]\n",
      "[[1. 1.]\n",
      " [1. 1.]]\n",
      "[[0.34049575 0.30326619 0.75110544]\n",
      " [0.25644731 0.55921679 0.04926878]\n",
      " [0.65739374 0.71270716 0.30522007]]\n"
     ]
    }
   ],
   "source": [
    "import numpy as np\n",
    "\n",
    "# Creating a 1D NumPy array\n",
    "arr1 = np.array([1, 2, 3, 4, 5])\n",
    "print(arr1)\n",
    "\n",
    "# Creating a 2D NumPy array\n",
    "arr2 = np.array([[1, 2, 3], [4, 5, 6]])\n",
    "print(arr2)\n",
    "\n",
    "# Creating a NumPy array with zeros\n",
    "zeros_arr = np.zeros((3, 3))\n",
    "print(zeros_arr)\n",
    "\n",
    "# Creating a NumPy array with ones\n",
    "ones_arr = np.ones((2, 2))\n",
    "print(ones_arr)\n",
    "\n",
    "# Creating an array with random numbers\n",
    "random_arr = np.random.rand(3, 3)\n",
    "print(random_arr)\n"
   ]
  },
  {
   "cell_type": "markdown",
   "id": "895aaa7a-b04a-44d4-b6b7-1355b905e0f8",
   "metadata": {},
   "source": [
    "##### Range"
   ]
  },
  {
   "cell_type": "code",
   "execution_count": 30,
   "id": "03dd1b13-6319-41d3-96c9-a8253c8d3e12",
   "metadata": {},
   "outputs": [
    {
     "name": "stdout",
     "output_type": "stream",
     "text": [
      "range(0, 25)\n"
     ]
    }
   ],
   "source": [
    "r = range(25)\n",
    "print(r)"
   ]
  },
  {
   "cell_type": "code",
   "execution_count": 43,
   "id": "3aa437e4-6a31-4ff2-98a1-dc635649b3e4",
   "metadata": {},
   "outputs": [
    {
     "name": "stdout",
     "output_type": "stream",
     "text": [
      "[ 0  1  2  3  4  5  6  7  8  9 10 11 12 13 14 15 16 17 18 19 20 21 22 23\n",
      " 24 25 26 27 28 29 30 31 32 33 34 35 36 37 38 39 40 41 42 43 44 45 46 47]\n"
     ]
    }
   ],
   "source": [
    "r = np.arange(48)\n",
    "print(r)"
   ]
  },
  {
   "cell_type": "code",
   "execution_count": 44,
   "id": "89e05fc5-9e6f-40c2-a6b8-5cccce4a29d7",
   "metadata": {},
   "outputs": [
    {
     "name": "stdout",
     "output_type": "stream",
     "text": [
      "[[[ 0  1]\n",
      "  [ 2  3]\n",
      "  [ 4  5]\n",
      "  [ 6  7]]\n",
      "\n",
      " [[ 8  9]\n",
      "  [10 11]\n",
      "  [12 13]\n",
      "  [14 15]]\n",
      "\n",
      " [[16 17]\n",
      "  [18 19]\n",
      "  [20 21]\n",
      "  [22 23]]\n",
      "\n",
      " [[24 25]\n",
      "  [26 27]\n",
      "  [28 29]\n",
      "  [30 31]]\n",
      "\n",
      " [[32 33]\n",
      "  [34 35]\n",
      "  [36 37]\n",
      "  [38 39]]\n",
      "\n",
      " [[40 41]\n",
      "  [42 43]\n",
      "  [44 45]\n",
      "  [46 47]]]\n"
     ]
    }
   ],
   "source": [
    "rr = r.reshape(6, 4, 2)\n",
    "print(rr)"
   ]
  },
  {
   "cell_type": "markdown",
   "id": "82336a5c-27f1-4553-8658-5146e5116bf4",
   "metadata": {},
   "source": [
    "##### **NumPy Array Attributes**"
   ]
  },
  {
   "cell_type": "code",
   "execution_count": 22,
   "id": "066e8f45-9f60-4931-8863-79f927c1e1ee",
   "metadata": {},
   "outputs": [
    {
     "name": "stdout",
     "output_type": "stream",
     "text": [
      "Shape: (2, 3)\n",
      "Size: 6\n",
      "Data Type: int32\n",
      "Dimensions: 2\n",
      "Item Size: 4\n",
      "Total Bytes: 24\n"
     ]
    }
   ],
   "source": [
    "arr = np.array([[1, 2, 3], [4, 5, 6]])\n",
    "\n",
    "print(\"Shape:\", arr.shape)  # (Rows, Columns)\n",
    "print(\"Size:\", arr.size)    # Total elements\n",
    "print(\"Data Type:\", arr.dtype)  # Type of elements\n",
    "print(\"Dimensions:\", arr.ndim)  # Number of dimensions\n",
    "print(\"Item Size:\", arr.itemsize)  # Size of each element in bytes\n",
    "print(\"Total Bytes:\", arr.nbytes)  # Total memory consumed\n"
   ]
  },
  {
   "cell_type": "markdown",
   "id": "c548a20b-4e43-4d5d-8ee7-f77bae44edcb",
   "metadata": {},
   "source": [
    "##### **NumPy Numeric Operations**"
   ]
  },
  {
   "cell_type": "code",
   "execution_count": 72,
   "id": "fc2082e6-ed2f-436c-8780-25bae9464148",
   "metadata": {},
   "outputs": [
    {
     "name": "stdout",
     "output_type": "stream",
     "text": [
      "[[1 2 3]\n",
      " [4 5 6]]\n",
      "[[2 3 4]\n",
      " [5 6 8]]\n"
     ]
    },
    {
     "data": {
      "text/plain": [
       "(2, 3)"
      ]
     },
     "execution_count": 72,
     "metadata": {},
     "output_type": "execute_result"
    }
   ],
   "source": [
    "mylist1 = np.array([[1, 2, 3],[ 4, 5, 6]])\n",
    "mylist2 = np.array([[2, 3, 4],[ 5, 6, 8]])\n",
    "print(mylist1)\n",
    "print(mylist2)\n",
    "mylist1.shape\n",
    "mylist2.shape"
   ]
  },
  {
   "cell_type": "markdown",
   "id": "bfdc864a-0b51-40cb-90fd-32c3eed3edf6",
   "metadata": {},
   "source": [
    "##### **Addition**"
   ]
  },
  {
   "cell_type": "code",
   "execution_count": 55,
   "id": "f170917a-dc7e-40b4-9d8c-22c44f81667c",
   "metadata": {},
   "outputs": [
    {
     "name": "stdout",
     "output_type": "stream",
     "text": [
      "[[ 3  5  7]\n",
      " [ 9 11 14]]\n"
     ]
    }
   ],
   "source": [
    "print(mylist1+mylist2)"
   ]
  },
  {
   "cell_type": "code",
   "execution_count": 60,
   "id": "2e7fc1af-7796-4185-8742-e370c5b7eb59",
   "metadata": {},
   "outputs": [
    {
     "name": "stdout",
     "output_type": "stream",
     "text": [
      "[[ 3  5  7]\n",
      " [ 9 11 14]]\n"
     ]
    }
   ],
   "source": [
    "print(np.add(mylist1, mylist2))"
   ]
  },
  {
   "cell_type": "markdown",
   "id": "5cb3af5f-e67a-4a30-9dd4-92e845f595bc",
   "metadata": {},
   "source": [
    "##### **Substraction**"
   ]
  },
  {
   "cell_type": "code",
   "execution_count": 61,
   "id": "65ecefc8-c393-47f3-a7b2-32fb2b99b367",
   "metadata": {},
   "outputs": [
    {
     "name": "stdout",
     "output_type": "stream",
     "text": [
      "[[-1 -1 -1]\n",
      " [-1 -1 -2]]\n"
     ]
    }
   ],
   "source": [
    "print(mylist1 - mylist2)"
   ]
  },
  {
   "cell_type": "code",
   "execution_count": 64,
   "id": "35699895-f9d3-4fca-9887-01d32469939a",
   "metadata": {},
   "outputs": [
    {
     "name": "stdout",
     "output_type": "stream",
     "text": [
      "[[-1 -1 -1]\n",
      " [-1 -1 -2]]\n"
     ]
    }
   ],
   "source": [
    "print(np.subtract(mylist1, mylist2))"
   ]
  },
  {
   "cell_type": "markdown",
   "id": "597470ec-0e78-4f5b-9529-08a05ac2f6f4",
   "metadata": {},
   "source": [
    "##### **Multiplication**"
   ]
  },
  {
   "cell_type": "code",
   "execution_count": 65,
   "id": "2ec580e8-4b9b-4a0f-86ab-b440b23eaf2e",
   "metadata": {},
   "outputs": [
    {
     "name": "stdout",
     "output_type": "stream",
     "text": [
      "[[ 2  6 12]\n",
      " [20 30 48]]\n"
     ]
    }
   ],
   "source": [
    "print(mylist1 * mylist2)"
   ]
  },
  {
   "cell_type": "code",
   "execution_count": 67,
   "id": "4032cb55-28ba-4b3c-94a5-945acb007a50",
   "metadata": {},
   "outputs": [
    {
     "name": "stdout",
     "output_type": "stream",
     "text": [
      "[[ 2  6 12]\n",
      " [20 30 48]]\n"
     ]
    }
   ],
   "source": [
    "print(np.multiply(mylist1, mylist2))"
   ]
  },
  {
   "cell_type": "markdown",
   "id": "d7d0d349-0105-43ae-8d0b-a28e36c14b3c",
   "metadata": {},
   "source": [
    "##### **Matrix Multiplication Rules**\n",
    "\n",
    "##### 1️⃣ Matrix multiplication (np.dot(A, B)) requires inner dimensions to match:\n",
    "\n",
    "##### Example: (2,3) × (3,2) = ✅ (2,2)\n",
    "##### Example: (2,3) × (2,3) = ❌ Not Possible\n",
    "##### 2️⃣ Fixes for (2,3) × (2,3) issue:\n",
    "\n",
    "##### Transpose one matrix → np.dot(A, B.T) ✅\n",
    "##### Reshape B to (3,2) → np.dot(A, B) ✅\n",
    "##### Use * for element-wise multiplication (not matrix multiplication) ✅"
   ]
  },
  {
   "cell_type": "code",
   "execution_count": 74,
   "id": "5a7c0f2a-30a4-422b-a481-91a051397c31",
   "metadata": {},
   "outputs": [
    {
     "name": "stdout",
     "output_type": "stream",
     "text": [
      "[[20 41]\n",
      " [47 98]]\n"
     ]
    }
   ],
   "source": [
    "print(np.dot(mylist1, mylist2.T))"
   ]
  },
  {
   "cell_type": "markdown",
   "id": "acfb394d-05d1-4cb6-b9ab-f6ad668533ac",
   "metadata": {},
   "source": [
    "##### **Division**"
   ]
  },
  {
   "cell_type": "code",
   "execution_count": 75,
   "id": "53f019ef-ca1c-4c2c-8bcb-378eb94b7826",
   "metadata": {},
   "outputs": [
    {
     "data": {
      "text/plain": [
       "array([[0.5       , 0.66666667, 0.75      ],\n",
       "       [0.8       , 0.83333333, 0.75      ]])"
      ]
     },
     "execution_count": 75,
     "metadata": {},
     "output_type": "execute_result"
    }
   ],
   "source": [
    "(mylist1 / mylist2)"
   ]
  },
  {
   "cell_type": "code",
   "execution_count": 76,
   "id": "2c0c808c-2a57-4f37-ba51-44532dd4c63e",
   "metadata": {},
   "outputs": [
    {
     "data": {
      "text/plain": [
       "array([[0.5       , 0.66666667, 0.75      ],\n",
       "       [0.8       , 0.83333333, 0.75      ]])"
      ]
     },
     "execution_count": 76,
     "metadata": {},
     "output_type": "execute_result"
    }
   ],
   "source": [
    "np.divide(mylist1, mylist2)"
   ]
  },
  {
   "cell_type": "markdown",
   "id": "bc0ef480-58de-436f-8c8a-5a0f912fd46c",
   "metadata": {},
   "source": [
    "#### **Summation**"
   ]
  },
  {
   "cell_type": "markdown",
   "id": "f9a4702e-595c-4517-bc58-d281a91c3bbc",
   "metadata": {},
   "source": [
    "###### **add overall element**"
   ]
  },
  {
   "cell_type": "code",
   "execution_count": 79,
   "id": "c47ace10-90a6-4d18-9033-95964b1ab25f",
   "metadata": {},
   "outputs": [
    {
     "data": {
      "text/plain": [
       "28"
      ]
     },
     "execution_count": 79,
     "metadata": {},
     "output_type": "execute_result"
    }
   ],
   "source": [
    "np.sum(mylist1) #\n",
    "np.sum(mylist2)"
   ]
  },
  {
   "cell_type": "code",
   "execution_count": 80,
   "id": "7a33516b-3e09-469c-9c9e-87419864cfc9",
   "metadata": {},
   "outputs": [
    {
     "data": {
      "text/plain": [
       "array([5, 7, 9])"
      ]
     },
     "execution_count": 80,
     "metadata": {},
     "output_type": "execute_result"
    }
   ],
   "source": [
    "np.sum(mylist1, axis = 0) # add element of Each Column"
   ]
  },
  {
   "cell_type": "code",
   "execution_count": 81,
   "id": "005fb50e-06cf-448e-8b3d-aa896835533d",
   "metadata": {},
   "outputs": [
    {
     "data": {
      "text/plain": [
       "array([ 6, 15])"
      ]
     },
     "execution_count": 81,
     "metadata": {},
     "output_type": "execute_result"
    }
   ],
   "source": [
    "np.sum(mylist1, axis = 1) # Add eclment of Each Row"
   ]
  }
 ],
 "metadata": {
  "kernelspec": {
   "display_name": "Python 3 (ipykernel)",
   "language": "python",
   "name": "python3"
  },
  "language_info": {
   "codemirror_mode": {
    "name": "ipython",
    "version": 3
   },
   "file_extension": ".py",
   "mimetype": "text/x-python",
   "name": "python",
   "nbconvert_exporter": "python",
   "pygments_lexer": "ipython3",
   "version": "3.12.7"
  }
 },
 "nbformat": 4,
 "nbformat_minor": 5
}
