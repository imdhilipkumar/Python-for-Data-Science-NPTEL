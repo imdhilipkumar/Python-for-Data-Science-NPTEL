{
 "cells": [
  {
   "cell_type": "code",
   "execution_count": 4,
   "id": "693dd808-b4c2-4cd3-b982-72296837f78d",
   "metadata": {},
   "outputs": [],
   "source": [
    "import os"
   ]
  },
  {
   "cell_type": "code",
   "execution_count": 6,
   "id": "f5f82a32-3897-441a-b97b-fd3ff60b619c",
   "metadata": {},
   "outputs": [],
   "source": [
    "os.chdir(r\"D:\\Code-Hero-Hub\\PYTHON\\Data Science\\Spyder\")"
   ]
  },
  {
   "cell_type": "code",
   "execution_count": 9,
   "id": "35ba543b-cd29-4203-bd96-99f9ba51d96b",
   "metadata": {},
   "outputs": [],
   "source": [
    "import pandas as pd"
   ]
  },
  {
   "cell_type": "code",
   "execution_count": 10,
   "id": "0116d4d9-867f-4802-a60a-a760799aac2e",
   "metadata": {},
   "outputs": [],
   "source": [
    "data_csv =pd.read_csv(\"Iris_data_sample.csv\")"
   ]
  },
  {
   "cell_type": "code",
   "execution_count": 11,
   "id": "044f982c-96cd-45da-ab16-3c5892ff011c",
   "metadata": {
    "scrolled": true
   },
   "outputs": [
    {
     "data": {
      "text/html": [
       "<div>\n",
       "<style scoped>\n",
       "    .dataframe tbody tr th:only-of-type {\n",
       "        vertical-align: middle;\n",
       "    }\n",
       "\n",
       "    .dataframe tbody tr th {\n",
       "        vertical-align: top;\n",
       "    }\n",
       "\n",
       "    .dataframe thead th {\n",
       "        text-align: right;\n",
       "    }\n",
       "</style>\n",
       "<table border=\"1\" class=\"dataframe\">\n",
       "  <thead>\n",
       "    <tr style=\"text-align: right;\">\n",
       "      <th></th>\n",
       "      <th>Unnamed: 0</th>\n",
       "      <th>SepalLengthCm</th>\n",
       "      <th>SepalWidthCm</th>\n",
       "      <th>PetalLengthCm</th>\n",
       "      <th>PetalWidthCm</th>\n",
       "      <th>Species</th>\n",
       "    </tr>\n",
       "  </thead>\n",
       "  <tbody>\n",
       "    <tr>\n",
       "      <th>0</th>\n",
       "      <td>1</td>\n",
       "      <td>5.1</td>\n",
       "      <td>3.5</td>\n",
       "      <td>1.4</td>\n",
       "      <td>0.2</td>\n",
       "      <td>Iris-setosa</td>\n",
       "    </tr>\n",
       "    <tr>\n",
       "      <th>1</th>\n",
       "      <td>2</td>\n",
       "      <td>4.9</td>\n",
       "      <td>NaN</td>\n",
       "      <td>1.4</td>\n",
       "      <td>0.2</td>\n",
       "      <td>NaN</td>\n",
       "    </tr>\n",
       "    <tr>\n",
       "      <th>2</th>\n",
       "      <td>3</td>\n",
       "      <td>4.7</td>\n",
       "      <td>3.2</td>\n",
       "      <td>1.3</td>\n",
       "      <td>0.2</td>\n",
       "      <td>Iris-setosa</td>\n",
       "    </tr>\n",
       "    <tr>\n",
       "      <th>3</th>\n",
       "      <td>4</td>\n",
       "      <td>??</td>\n",
       "      <td>3.1</td>\n",
       "      <td>1.5</td>\n",
       "      <td>0.2</td>\n",
       "      <td>Iris-setosa</td>\n",
       "    </tr>\n",
       "    <tr>\n",
       "      <th>4</th>\n",
       "      <td>5</td>\n",
       "      <td>5</td>\n",
       "      <td>3.6</td>\n",
       "      <td>###</td>\n",
       "      <td>0.2</td>\n",
       "      <td>Iris-setosa</td>\n",
       "    </tr>\n",
       "    <tr>\n",
       "      <th>...</th>\n",
       "      <td>...</td>\n",
       "      <td>...</td>\n",
       "      <td>...</td>\n",
       "      <td>...</td>\n",
       "      <td>...</td>\n",
       "      <td>...</td>\n",
       "    </tr>\n",
       "    <tr>\n",
       "      <th>145</th>\n",
       "      <td>146</td>\n",
       "      <td>6.7</td>\n",
       "      <td>3.0</td>\n",
       "      <td>5.2</td>\n",
       "      <td>2.3</td>\n",
       "      <td>Iris-virginica</td>\n",
       "    </tr>\n",
       "    <tr>\n",
       "      <th>146</th>\n",
       "      <td>147</td>\n",
       "      <td>6.3</td>\n",
       "      <td>2.5</td>\n",
       "      <td>5</td>\n",
       "      <td>1.9</td>\n",
       "      <td>Iris-virginica</td>\n",
       "    </tr>\n",
       "    <tr>\n",
       "      <th>147</th>\n",
       "      <td>148</td>\n",
       "      <td>6.5</td>\n",
       "      <td>3.0</td>\n",
       "      <td>5.2</td>\n",
       "      <td>2.0</td>\n",
       "      <td>Iris-virginica</td>\n",
       "    </tr>\n",
       "    <tr>\n",
       "      <th>148</th>\n",
       "      <td>149</td>\n",
       "      <td>6.2</td>\n",
       "      <td>3.4</td>\n",
       "      <td>5.4</td>\n",
       "      <td>2.3</td>\n",
       "      <td>Iris-virginica</td>\n",
       "    </tr>\n",
       "    <tr>\n",
       "      <th>149</th>\n",
       "      <td>150</td>\n",
       "      <td>5.9</td>\n",
       "      <td>3.0</td>\n",
       "      <td>5.1</td>\n",
       "      <td>1.8</td>\n",
       "      <td>Iris-virginica</td>\n",
       "    </tr>\n",
       "  </tbody>\n",
       "</table>\n",
       "<p>150 rows × 6 columns</p>\n",
       "</div>"
      ],
      "text/plain": [
       "     Unnamed: 0 SepalLengthCm  SepalWidthCm PetalLengthCm  PetalWidthCm  \\\n",
       "0             1           5.1           3.5           1.4           0.2   \n",
       "1             2           4.9           NaN           1.4           0.2   \n",
       "2             3           4.7           3.2           1.3           0.2   \n",
       "3             4            ??           3.1           1.5           0.2   \n",
       "4             5             5           3.6           ###           0.2   \n",
       "..          ...           ...           ...           ...           ...   \n",
       "145         146           6.7           3.0           5.2           2.3   \n",
       "146         147           6.3           2.5             5           1.9   \n",
       "147         148           6.5           3.0           5.2           2.0   \n",
       "148         149           6.2           3.4           5.4           2.3   \n",
       "149         150           5.9           3.0           5.1           1.8   \n",
       "\n",
       "            Species  \n",
       "0       Iris-setosa  \n",
       "1               NaN  \n",
       "2       Iris-setosa  \n",
       "3       Iris-setosa  \n",
       "4       Iris-setosa  \n",
       "..              ...  \n",
       "145  Iris-virginica  \n",
       "146  Iris-virginica  \n",
       "147  Iris-virginica  \n",
       "148  Iris-virginica  \n",
       "149  Iris-virginica  \n",
       "\n",
       "[150 rows x 6 columns]"
      ]
     },
     "execution_count": 11,
     "metadata": {},
     "output_type": "execute_result"
    }
   ],
   "source": [
    "data_csv"
   ]
  },
  {
   "cell_type": "code",
   "execution_count": null,
   "id": "07d10092-e8d7-45da-b185-97716a75ef07",
   "metadata": {},
   "outputs": [],
   "source": [
    "# Read the dataset a the csv format\n",
    "Data_csv =pd.read_csv(\"Iris_data_sample.csv\")\n",
    "Data_csv\n"
   ]
  },
  {
   "cell_type": "code",
   "execution_count": null,
   "id": "3f939ec5-e54f-4216-b6ce-907b5ae20ad2",
   "metadata": {},
   "outputs": [],
   "source": [
    "# remove the extra column\n",
    "Data_csv1 = pd.read_csv(\"Iris_data_sample.csv\", index_col=0)\n",
    "Data_csv1\n",
    "\n"
   ]
  },
  {
   "cell_type": "code",
   "execution_count": null,
   "id": "5d16e04e-cd14-4ae9-af80-d05bb751364c",
   "metadata": {},
   "outputs": [],
   "source": [
    "# Remove the missing value and consider as null\n",
    "Data_csv2 = pd.read_csv(\"Iris_data_sample.csv\", index_col=0, na_values=[\"??\", \"###\"])\n",
    "Data_csv2\n"
   ]
  },
  {
   "cell_type": "code",
   "execution_count": null,
   "id": "387ce536-8e7d-446f-8aa4-92b394cbf3f5",
   "metadata": {},
   "outputs": [],
   "source": [
    "# read the Dataset as text file\n",
    "Data_txt = pd.read_table(\"Iris_data_sample.txt\")\n",
    "Data_txt\n"
   ]
  },
  {
   "cell_type": "code",
   "execution_count": null,
   "id": "75376bdb-f492-47a1-8fb1-9a797b2c8a9a",
   "metadata": {},
   "outputs": [],
   "source": [
    "# remove the extra column\n",
    "Data_txt1 = pd.read_table(\"Iris_data_sample.txt\", index_col=0)\n",
    "Data_txt1\n"
   ]
  },
  {
   "cell_type": "code",
   "execution_count": null,
   "id": "b846daf0-a3d4-427f-997b-277fce6f33d2",
   "metadata": {},
   "outputs": [],
   "source": [
    "# Remove the missing value and consider as null\n",
    "Data_txt2 = pd.read_table(\"Iris_data_sample.txt\", sep=\" \")\n",
    "Data_txt2\n"
   ]
  },
  {
   "cell_type": "code",
   "execution_count": null,
   "id": "b99d3c2f-9016-46a1-a2a3-24010a1eed8d",
   "metadata": {},
   "outputs": [],
   "source": [
    "# Remove the missing value and consider as null\n",
    "Data_txt3 = pd.read_table(\"Iris_data_sample.txt\", index_col=0, na_values=[\"??\", \"###\"], delimiter=\" \")\n",
    "Data_txt3\n"
   ]
  },
  {
   "cell_type": "code",
   "execution_count": null,
   "id": "1de80e99-667b-41ba-b7f7-8d1c592e1fc6",
   "metadata": {},
   "outputs": [],
   "source": [
    "# Read the Dataset as Excel format\n",
    "Data_Excel =pd.read_excel(\"Iris_data_sample.xlsx\")\n",
    "Data_Excel\n"
   ]
  },
  {
   "cell_type": "code",
   "execution_count": null,
   "id": "2d9c471f-1bbd-4985-b12f-af575c2de524",
   "metadata": {},
   "outputs": [],
   "source": [
    "# remove the extra column\n",
    "Data_excel1 = pd.read_excel(\"Iris_data_sample.xlsx\", index_col=0)\n",
    "Data_excel1\n"
   ]
  },
  {
   "cell_type": "code",
   "execution_count": null,
   "id": "f9dafb67-5d0b-44b3-a8a0-8a54f37bff2c",
   "metadata": {},
   "outputs": [],
   "source": [
    "# Remove the missing value and consider as null\n",
    "Data_excel2 = pd.read_excel(\"Iris_data_sample.xlsx\", index_col=0, na_values=[\"??\", \"###\"])\n",
    "Data_excel2"
   ]
  }
 ],
 "metadata": {
  "kernelspec": {
   "display_name": "Python 3 (ipykernel)",
   "language": "python",
   "name": "python3"
  },
  "language_info": {
   "codemirror_mode": {
    "name": "ipython",
    "version": 3
   },
   "file_extension": ".py",
   "mimetype": "text/x-python",
   "name": "python",
   "nbconvert_exporter": "python",
   "pygments_lexer": "ipython3",
   "version": "3.12.7"
  }
 },
 "nbformat": 4,
 "nbformat_minor": 5
}
