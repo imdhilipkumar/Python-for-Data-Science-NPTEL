{
 "cells": [
  {
   "cell_type": "markdown",
   "id": "8fa4bf7b-a553-41b5-991d-7b8335e9404c",
   "metadata": {},
   "source": [
    "## <center>**Sequence Data Type**<center>"
   ]
  },
  {
   "cell_type": "markdown",
   "id": "d6aa2ce9-8b23-4d32-9cbf-366761938036",
   "metadata": {},
   "source": [
    "\n",
    "* **Strings** - Sequence of characters - \"(or)\n",
    "  \n",
    "* **Tuples** - Sequence of compound data -()\n",
    "\n",
    "  \n",
    "* **Lists** - Sequence of multi-data type objects\n",
    "\n",
    "  \n",
    "* **Arrays** - Sequence of constrained list of objects (all objects of same datatype)\n",
    "                                   -\t*using array module from array package*\n",
    "* **Dictionary**- Sequence of key-value pairs - {}\n",
    "\n",
    "  \n",
    "* **Sets** - Sequence of unordered collection of unique data\n",
    "\n",
    "  \n",
    "* **Range** - Used for looping - using built-in range()\n",
    "\n",
    "  \n",
    "* These can offer unique functionalities for the variables to contain and handle more than one data datatype at a time\n",
    "\n",
    "  \n",
    "* Supports operations such as indexing, slicing, concatenation, multiplication etc..\n",
    "Sequence Objective Initialization\n",
    "\n"
   ]
  },
  {
   "cell_type": "markdown",
   "id": "c9dc8587-4094-4310-ac82-206225b27707",
   "metadata": {},
   "source": [
    "### Strings"
   ]
  },
  {
   "cell_type": "code",
   "execution_count": 3,
   "id": "d1e8b7fc-e66f-4643-bb48-09b170f259be",
   "metadata": {},
   "outputs": [
    {
     "name": "stdout",
     "output_type": "stream",
     "text": [
      "Learning Data Scince by Dk\n"
     ]
    }
   ],
   "source": [
    "str_sample = \"Learning Data Scince by Dk\"\n",
    "print(str_sample)"
   ]
  },
  {
   "cell_type": "markdown",
   "id": "8ec770fd-0cea-4e87-83ed-f0266d14ec79",
   "metadata": {},
   "source": [
    "##### **pandoc** → A document conversion tool, not a Python package. Used for converting files between formats like Markdown, HTML, PDF, etc."
   ]
  },
  {
   "cell_type": "code",
   "execution_count": 11,
   "id": "25fd74d6-3263-4af0-aa1e-00fe99536587",
   "metadata": {},
   "outputs": [
    {
     "name": "stdout",
     "output_type": "stream",
     "text": [
      "Requirement already satisfied: pandoc in c:\\users\\dell\\anaconda3\\lib\\site-packages (2.4)\n",
      "Requirement already satisfied: plumbum in c:\\users\\dell\\anaconda3\\lib\\site-packages (from pandoc) (1.9.0)\n",
      "Requirement already satisfied: ply in c:\\users\\dell\\anaconda3\\lib\\site-packages (from pandoc) (3.11)\n",
      "Requirement already satisfied: pywin32 in c:\\users\\dell\\appdata\\roaming\\python\\python312\\site-packages (from plumbum->pandoc) (306)\n",
      "Note: you may need to restart the kernel to use updated packages.\n"
     ]
    }
   ],
   "source": [
    "pip install pandoc"
   ]
  },
  {
   "cell_type": "markdown",
   "id": "0aa71775-d976-4af3-9fab-d2b27ba74a3b",
   "metadata": {},
   "source": [
    "##### **Lists**"
   ]
  },
  {
   "cell_type": "code",
   "execution_count": 14,
   "id": "795f016a-2db9-4bec-9021-cb1ae20275db",
   "metadata": {},
   "outputs": [
    {
     "name": "stdout",
     "output_type": "stream",
     "text": [
      "[1, 2, 3, 3, 4, 5, 6]\n"
     ]
    }
   ],
   "source": [
    "list_Number = [1, 2, 3, 3,  4, 5, 6]  # list with number having Duplicate Value\n",
    "                                        \n",
    "print(list_Number)"
   ]
  },
  {
   "cell_type": "code",
   "execution_count": 16,
   "id": "18c0db3b-cc09-425b-80c1-176819ac8cb9",
   "metadata": {},
   "outputs": [
    {
     "name": "stdout",
     "output_type": "stream",
     "text": [
      "[1, 2, 3, 3, 4, 'Sam', 4]\n"
     ]
    }
   ],
   "source": [
    "list_Number = [1, 2, 3, 3,  4, \"Sam\", 4] # list with mixed Data types having the nummber and strings\n",
    "print(list_Number)"
   ]
  },
  {
   "cell_type": "markdown",
   "id": "b2c3501d-2176-4127-b3a8-730960cfb011",
   "metadata": {},
   "source": [
    "##### **Array**"
   ]
  },
  {
   "cell_type": "code",
   "execution_count": 20,
   "id": "1a39da42-07cc-4fb3-be6d-5692a8ba78dd",
   "metadata": {},
   "outputs": [
    {
     "name": "stdout",
     "output_type": "stream",
     "text": [
      "1\n",
      "2\n",
      "3\n",
      "4\n",
      "5\n"
     ]
    }
   ],
   "source": [
    "from array import *\n",
    "arr_sample = array('i', [1, 2, 3, 4, 5])\n",
    "for x in arr_sample: print(x)\n"
   ]
  },
  {
   "cell_type": "markdown",
   "id": "117ec1d0-335b-4081-b552-173bc28912fd",
   "metadata": {},
   "source": [
    "##### **Tuples**"
   ]
  },
  {
   "cell_type": "code",
   "execution_count": 21,
   "id": "35882942-f83f-47df-ba42-25d360a4b73e",
   "metadata": {},
   "outputs": [
    {
     "name": "stdout",
     "output_type": "stream",
     "text": [
      "(1, 2, 3, 4, 6, 'py')\n"
     ]
    }
   ],
   "source": [
    "sample_tuples = (1, 2, 3, 4, 6, 'py')\n",
    "print(sample_tuples)"
   ]
  },
  {
   "cell_type": "markdown",
   "id": "c66b66b2-11d2-49b9-ad2d-2a460cd3f1c5",
   "metadata": {},
   "source": [
    "##### **Tuples Packing**"
   ]
  },
  {
   "cell_type": "code",
   "execution_count": 22,
   "id": "47a0fc3e-c213-476d-8613-852cd63950e6",
   "metadata": {},
   "outputs": [
    {
     "name": "stdout",
     "output_type": "stream",
     "text": [
      "(1, 2, 3, 'python', 'Data science', 2.0)\n"
     ]
    }
   ],
   "source": [
    "tuples_pack = 1, 2, 3, \"python\", \"Data science\", 2.0\n",
    "print(tuples_pack)"
   ]
  },
  {
   "cell_type": "markdown",
   "id": "a84d8902-e726-4f5f-803c-89206cbeed52",
   "metadata": {},
   "source": [
    "##### **Dictionary**"
   ]
  },
  {
   "cell_type": "code",
   "execution_count": 24,
   "id": "13d67eef-b3ab-4b3d-a51b-82ea7690e819",
   "metadata": {},
   "outputs": [
    {
     "name": "stdout",
     "output_type": "stream",
     "text": [
      "{1: 'First Name', 2: 'Second Name', 'third': 3}\n"
     ]
    }
   ],
   "source": [
    "dict_sample = {1:\"First Name\", 2:\"Second Name\", 'third': 3}\n",
    "print(dict_sample)\n",
    "            "
   ]
  },
  {
   "cell_type": "code",
   "execution_count": 30,
   "id": "476bf1f1-6b4c-434b-89ff-a0ce5a1f38f7",
   "metadata": {},
   "outputs": [
    {
     "name": "stdout",
     "output_type": "stream",
     "text": [
      "{1: 'first', 2: 'Second', 3: 'Third'}\n"
     ]
    }
   ],
   "source": [
    "dict_samples = dict([(1,\"first\"), (2,\"Second\"), (3,\"Third\")])\n",
    "print(dict_samples)"
   ]
  },
  {
   "cell_type": "markdown",
   "id": "975c892a-867a-469a-a2fd-28b25ffd95d7",
   "metadata": {},
   "source": [
    "##### **Sets**"
   ]
  },
  {
   "cell_type": "code",
   "execution_count": 31,
   "id": "51b571e6-9778-41e1-8f32-e865b4239adf",
   "metadata": {},
   "outputs": [
    {
     "name": "stdout",
     "output_type": "stream",
     "text": [
      "{1, 2, 4, 5, 6}\n"
     ]
    }
   ],
   "source": [
    "set_samples = {1, 2, 4, 5, 5, 6} # Remove the Duplicates elements...\n",
    "print(set_samples)"
   ]
  },
  {
   "cell_type": "markdown",
   "id": "eb003ba9-0a29-4be7-a73a-27a9db9276a1",
   "metadata": {},
   "source": [
    "##### **Range**"
   ]
  },
  {
   "cell_type": "code",
   "execution_count": 36,
   "id": "8b3183d8-81f5-4db2-8ba4-09881a6d57c8",
   "metadata": {},
   "outputs": [
    {
     "name": "stdout",
     "output_type": "stream",
     "text": [
      "1\n",
      "10\n",
      "19\n",
      "28\n",
      "37\n",
      "46\n"
     ]
    }
   ],
   "source": [
    "sample_range = range(1, 50, 9)\n",
    "for i in sample_range: print(i)"
   ]
  },
  {
   "cell_type": "markdown",
   "id": "519f060e-f4fb-418c-8f73-f2f5d98d0dc1",
   "metadata": {},
   "source": [
    "### Sequence Data operations : Indexing"
   ]
  },
  {
   "cell_type": "markdown",
   "id": "1a7eb585-73ca-4e11-9057-0e33a32c7d26",
   "metadata": {},
   "source": [
    "* Sequence data operations: Indexing\n",
    "\n",
    "* Indexing just means accessing elements. To access elements, the square brackets can be used. There are many methods to access elements in python.\n",
    "\n",
    "* index() method finds the first occurrence of the specified value and returns its position\n",
    "\n",
    "* **Syntax**: object.index(sub[, start[, end]]), object[index]\n",
    "\n",
    "* Index of the element is used to access an element from ordered sequences\n",
    "\n",
    "* The index starts from 0\n",
    "\n",
    "* Negative indexing is used to access elements from the end of a list\n",
    "\n",
    "* In negative indexing, the last element of a list has the index -1"
   ]
  },
  {
   "cell_type": "markdown",
   "id": "b515bd91-d821-4558-949e-8e84f6289694",
   "metadata": {},
   "source": [
    "##### **String : Indexing**"
   ]
  },
  {
   "cell_type": "code",
   "execution_count": 45,
   "id": "5f051968-5797-4bee-b8e6-8df15879ccf7",
   "metadata": {},
   "outputs": [
    {
     "data": {
      "text/plain": [
       "24"
      ]
     },
     "execution_count": 45,
     "metadata": {},
     "output_type": "execute_result"
    }
   ],
   "source": [
    "str_sample = \"Learning Data Scince by Dk\"\n",
    "str_sample.index(\"Dk\")"
   ]
  },
  {
   "cell_type": "code",
   "execution_count": 47,
   "id": "5fbe241d-cd4e-4830-b850-eafc76a3d677",
   "metadata": {},
   "outputs": [
    {
     "data": {
      "text/plain": [
       "'a'"
      ]
     },
     "execution_count": 47,
     "metadata": {},
     "output_type": "execute_result"
    }
   ],
   "source": [
    "str_sample[2]"
   ]
  },
  {
   "cell_type": "code",
   "execution_count": 49,
   "id": "36f34c57-a4b4-4122-b616-ef92badfe6df",
   "metadata": {},
   "outputs": [
    {
     "data": {
      "text/plain": [
       "'i'"
      ]
     },
     "execution_count": 49,
     "metadata": {},
     "output_type": "execute_result"
    }
   ],
   "source": [
    "str_sample[-10]"
   ]
  },
  {
   "cell_type": "markdown",
   "id": "70d9a968-d382-4a9d-821c-aef949c0ae28",
   "metadata": {},
   "source": [
    "##### **List : Indexing**\n"
   ]
  },
  {
   "cell_type": "code",
   "execution_count": 51,
   "id": "e2af103e-b54d-4939-8874-850a79607f4c",
   "metadata": {},
   "outputs": [
    {
     "data": {
      "text/plain": [
       "0"
      ]
     },
     "execution_count": 51,
     "metadata": {},
     "output_type": "execute_result"
    }
   ],
   "source": [
    "list_number = [1, 2, 3, 3,  4, 5, 6]\n",
    "list_number.index(1)"
   ]
  },
  {
   "cell_type": "code",
   "execution_count": 52,
   "id": "2a579cdc-9f09-4d24-bb3e-114a23f200c4",
   "metadata": {},
   "outputs": [
    {
     "data": {
      "text/plain": [
       "4"
      ]
     },
     "execution_count": 52,
     "metadata": {},
     "output_type": "execute_result"
    }
   ],
   "source": [
    "list_number[4]"
   ]
  },
  {
   "cell_type": "code",
   "execution_count": 53,
   "id": "2f45a171-03b5-41ca-8a0f-092dd041d626",
   "metadata": {},
   "outputs": [
    {
     "data": {
      "text/plain": [
       "3"
      ]
     },
     "execution_count": 53,
     "metadata": {},
     "output_type": "execute_result"
    }
   ],
   "source": [
    "list_number[-4]"
   ]
  },
  {
   "cell_type": "markdown",
   "id": "82ffb161-ac8c-43e0-9142-a6bdb1556c2f",
   "metadata": {},
   "source": [
    "##### **Array :Indexing**"
   ]
  },
  {
   "cell_type": "code",
   "execution_count": 56,
   "id": "aa55a2b0-8b92-43a1-98b2-c7e229c9ff8f",
   "metadata": {},
   "outputs": [
    {
     "name": "stdout",
     "output_type": "stream",
     "text": [
      "1\n",
      "2\n",
      "4\n",
      "5\n",
      "6\n",
      "10\n",
      "20\n"
     ]
    }
   ],
   "source": [
    "from array import *\n",
    "arr_sample =array(\"i\", [1, 2, 4, 5, 6, 10, 20])\n",
    "for i in arr_sample:print(i)"
   ]
  },
  {
   "cell_type": "code",
   "execution_count": 55,
   "id": "b543b0d0-4b5d-405b-8a74-36b3eb0b8d03",
   "metadata": {},
   "outputs": [
    {
     "data": {
      "text/plain": [
       "4"
      ]
     },
     "execution_count": 55,
     "metadata": {},
     "output_type": "execute_result"
    }
   ],
   "source": [
    "arr_sample.index(6)"
   ]
  },
  {
   "cell_type": "code",
   "execution_count": 57,
   "id": "ff63d72d-fbe4-4554-af8f-b96b85676d18",
   "metadata": {},
   "outputs": [
    {
     "data": {
      "text/plain": [
       "2"
      ]
     },
     "execution_count": 57,
     "metadata": {},
     "output_type": "execute_result"
    }
   ],
   "source": [
    "arr_sample[1]"
   ]
  },
  {
   "cell_type": "code",
   "execution_count": 62,
   "id": "9ae6557c-ee09-432f-bd11-995bd858678f",
   "metadata": {},
   "outputs": [
    {
     "data": {
      "text/plain": [
       "6"
      ]
     },
     "execution_count": 62,
     "metadata": {},
     "output_type": "execute_result"
    }
   ],
   "source": [
    "arr_sample[-3]"
   ]
  },
  {
   "cell_type": "markdown",
   "id": "ab551d1e-a939-4bdc-be79-b336dc7abd60",
   "metadata": {},
   "source": [
    "##### **Tuples :Indexing**"
   ]
  },
  {
   "cell_type": "code",
   "execution_count": null,
   "id": "fd734d21-58dd-4eba-9cf5-8200952c43be",
   "metadata": {},
   "outputs": [],
   "source": [
    "sample_tuples = (1, 2, 3, 4, 6, 'py')"
   ]
  },
  {
   "cell_type": "code",
   "execution_count": 58,
   "id": "4e5995f7-08bb-41d4-a1e1-c60c9eb87a98",
   "metadata": {},
   "outputs": [
    {
     "data": {
      "text/plain": [
       "5"
      ]
     },
     "execution_count": 58,
     "metadata": {},
     "output_type": "execute_result"
    }
   ],
   "source": [
    "sample_tuples.index(\"py\")"
   ]
  },
  {
   "cell_type": "code",
   "execution_count": 60,
   "id": "ceed8ed1-b32f-4678-a2a4-c20737c2d806",
   "metadata": {},
   "outputs": [
    {
     "data": {
      "text/plain": [
       "'py'"
      ]
     },
     "execution_count": 60,
     "metadata": {},
     "output_type": "execute_result"
    }
   ],
   "source": [
    "sample_tuples[5]"
   ]
  },
  {
   "cell_type": "code",
   "execution_count": 61,
   "id": "3ea96381-db0f-46a9-a0ae-99ddb8484b38",
   "metadata": {},
   "outputs": [
    {
     "data": {
      "text/plain": [
       "4"
      ]
     },
     "execution_count": 61,
     "metadata": {},
     "output_type": "execute_result"
    }
   ],
   "source": [
    "sample_tuples[-3]"
   ]
  },
  {
   "cell_type": "markdown",
   "id": "6b341d96-c724-4dea-bd73-21efb03016f6",
   "metadata": {},
   "source": [
    "##### **Set :Indexing**"
   ]
  },
  {
   "cell_type": "code",
   "execution_count": null,
   "id": "e4198c75-69ea-4674-bf76-274677711784",
   "metadata": {},
   "outputs": [],
   "source": [
    "set_samples = {1, 2, 4, 5, 5, 6, \"Dhilip\", 33.12, \"Data Sceince\"}\n"
   ]
  },
  {
   "cell_type": "markdown",
   "id": "1c394c97-e1bb-455b-8810-7386acb84743",
   "metadata": {},
   "source": [
    "##### *'set' object has no attribute 'index'*"
   ]
  },
  {
   "cell_type": "markdown",
   "id": "fd846879-57cb-4a60-9a19-4fbdc2d4c5a6",
   "metadata": {},
   "source": [
    "##### **Dictionary : Indexing**"
   ]
  },
  {
   "cell_type": "code",
   "execution_count": null,
   "id": "5a991cf4-3f1b-4e6d-b4cc-b56d2391ad7f",
   "metadata": {},
   "outputs": [],
   "source": [
    "dict_sample = {1:\"First Name\", 2:\"Second Name\", 'third': 3}\n",
    "dict_samples = dict([(1,\"first\"), (2,\"Second\"), (3,\"Third\")])\n"
   ]
  },
  {
   "cell_type": "markdown",
   "id": "700edb2d-19ca-4dee-ad1c-647839601152",
   "metadata": {},
   "source": [
    "dict_sample.index[1]\n",
    "\n",
    "*'dict' object has no attribute 'index'*"
   ]
  },
  {
   "cell_type": "code",
   "execution_count": 66,
   "id": "b55cfb56-f83d-4978-83ea-9376a2cc2986",
   "metadata": {},
   "outputs": [
    {
     "data": {
      "text/plain": [
       "'Second'"
      ]
     },
     "execution_count": 66,
     "metadata": {},
     "output_type": "execute_result"
    }
   ],
   "source": [
    "dict_samples[2]"
   ]
  },
  {
   "cell_type": "code",
   "execution_count": 67,
   "id": "346dd441-b492-4877-a949-35084a0c74dc",
   "metadata": {},
   "outputs": [
    {
     "data": {
      "text/plain": [
       "'First Name'"
      ]
     },
     "execution_count": 67,
     "metadata": {},
     "output_type": "execute_result"
    }
   ],
   "source": [
    "dict_sample[1]"
   ]
  },
  {
   "cell_type": "markdown",
   "id": "1180e947-0b76-46d8-bdaa-add26fcde882",
   "metadata": {},
   "source": [
    "##### **Range : Indexing**"
   ]
  },
  {
   "cell_type": "code",
   "execution_count": 68,
   "id": "fae772c7-851b-4e4b-a046-264986febfda",
   "metadata": {},
   "outputs": [
    {
     "name": "stdout",
     "output_type": "stream",
     "text": [
      "range(1, 50, 2)\n"
     ]
    }
   ],
   "source": [
    "range_sample =range(1, 50, 2)\n",
    "print(range_sample)"
   ]
  },
  {
   "cell_type": "code",
   "execution_count": 69,
   "id": "5a812a12-861f-4347-8e8c-83a82389384e",
   "metadata": {},
   "outputs": [
    {
     "name": "stdout",
     "output_type": "stream",
     "text": [
      "1\n",
      "3\n",
      "5\n",
      "7\n",
      "9\n",
      "11\n",
      "13\n",
      "15\n",
      "17\n",
      "19\n",
      "21\n",
      "23\n",
      "25\n",
      "27\n",
      "29\n",
      "31\n",
      "33\n",
      "35\n",
      "37\n",
      "39\n",
      "41\n",
      "43\n",
      "45\n",
      "47\n",
      "49\n"
     ]
    }
   ],
   "source": [
    "for i in range_sample: print(i)"
   ]
  },
  {
   "cell_type": "markdown",
   "id": "938417fd-883a-4fb1-b312-5284622d6e4d",
   "metadata": {},
   "source": [
    "range_sample.index[1]\n",
    "\n",
    "*'builtin_function_or_method' object is not subscriptable*"
   ]
  },
  {
   "cell_type": "code",
   "execution_count": 72,
   "id": "90fa8fae-d497-49bd-9499-ef06327cb522",
   "metadata": {},
   "outputs": [
    {
     "data": {
      "text/plain": [
       "11"
      ]
     },
     "execution_count": 72,
     "metadata": {},
     "output_type": "execute_result"
    }
   ],
   "source": [
    "range_sample[5]"
   ]
  },
  {
   "cell_type": "code",
   "execution_count": 73,
   "id": "2c1993b2-e87a-48b1-a611-d4e608a9adc6",
   "metadata": {},
   "outputs": [
    {
     "data": {
      "text/plain": [
       "45"
      ]
     },
     "execution_count": 73,
     "metadata": {},
     "output_type": "execute_result"
    }
   ],
   "source": [
    "range_sample[-3]"
   ]
  },
  {
   "cell_type": "markdown",
   "id": "b94de56b-7e87-4237-9eaf-36692c26ed10",
   "metadata": {},
   "source": [
    "##### **Sequence Data Operations: Slicing**"
   ]
  },
  {
   "cell_type": "markdown",
   "id": "ecf678cf-b4ed-4646-bfce-6b9bbcc9741f",
   "metadata": {},
   "source": [
    "Slicing is a way to extract a portion of a sequence (like a string, list, or tuple) using the colon (:) operator.\n",
    "\n",
    "**Syntax**: sequence[start:stop:step]\n",
    "\n",
    "start → The index where slicing begins (default = 0)\n",
    "stop → The index where slicing ends (exclusive)\n",
    "step → The interval between elements (default = 1)\n",
    "\n",
    "**slicing works with most sequence data types, including:**\n",
    "✅ Strings (str) ✅ Lists (list) ✅ Tuples (tuple) ✅ Bytes (bytes) ✅ Bytearrays (bytearray) ✅ Ranges (range)\n",
    "\n",
    "However, slicing does NOT work with:\n",
    "❌ Sets (set) – Unordered, so slicing doesn’t make sense.\n",
    "❌ Dictionaries (dict) – Key-value pairs don’t support indexing.\n",
    "\n"
   ]
  },
  {
   "cell_type": "markdown",
   "id": "46c28e94-0fd8-45f8-9bc5-5d42ed890ac5",
   "metadata": {},
   "source": [
    "##### **Strings :Slicing**"
   ]
  },
  {
   "cell_type": "code",
   "execution_count": 2,
   "id": "28302588-e1cb-4758-a9d5-4a74e282627d",
   "metadata": {},
   "outputs": [
    {
     "data": {
      "text/plain": [
       "'Learn'"
      ]
     },
     "execution_count": 2,
     "metadata": {},
     "output_type": "execute_result"
    }
   ],
   "source": [
    "str_sample = \"Learning Data Scince by Dk\"\n",
    "str_sample[0:5]"
   ]
  },
  {
   "cell_type": "code",
   "execution_count": 3,
   "id": "80a7d848-4a01-4ec6-9950-2782cba8e1fe",
   "metadata": {},
   "outputs": [
    {
     "data": {
      "text/plain": [
       "'by Dk'"
      ]
     },
     "execution_count": 3,
     "metadata": {},
     "output_type": "execute_result"
    }
   ],
   "source": [
    "str_sample[-5:]"
   ]
  },
  {
   "cell_type": "code",
   "execution_count": 4,
   "id": "672b25d7-58db-4fb8-b647-92622ac85fa3",
   "metadata": {},
   "outputs": [
    {
     "data": {
      "text/plain": [
       "'kD yb ecnicS ataD gninraeL'"
      ]
     },
     "execution_count": 4,
     "metadata": {},
     "output_type": "execute_result"
    }
   ],
   "source": [
    "str_sample[::-1]"
   ]
  },
  {
   "cell_type": "code",
   "execution_count": 5,
   "id": "bc577eaa-7bd5-4c4d-ac7b-8dc7a4fe4d97",
   "metadata": {},
   "outputs": [
    {
     "data": {
      "text/plain": [
       "'Learning Data Scince by Dk'"
      ]
     },
     "execution_count": 5,
     "metadata": {},
     "output_type": "execute_result"
    }
   ],
   "source": [
    "str_sample[:]"
   ]
  },
  {
   "cell_type": "code",
   "execution_count": 6,
   "id": "9a967f33-ca41-43a7-9d01-69d030301e69",
   "metadata": {},
   "outputs": [
    {
     "data": {
      "text/plain": [
       "'Lear'"
      ]
     },
     "execution_count": 6,
     "metadata": {},
     "output_type": "execute_result"
    }
   ],
   "source": [
    "str_sample[slice(4)]"
   ]
  },
  {
   "cell_type": "markdown",
   "id": "549dd950-5cab-4a6a-afbd-4614fb87a6b7",
   "metadata": {},
   "source": [
    "#### **Slicing: List**"
   ]
  },
  {
   "cell_type": "code",
   "execution_count": 9,
   "id": "139843af-1400-4478-bfca-c21e34b6b682",
   "metadata": {},
   "outputs": [],
   "source": [
    "list_number = [1, 2, 3, 3,  4, 5, 6]\n"
   ]
  },
  {
   "cell_type": "code",
   "execution_count": 10,
   "id": "59ebab29-8885-4bb0-9ff6-f41c4afafcc3",
   "metadata": {},
   "outputs": [
    {
     "data": {
      "text/plain": [
       "[3, 3, 4, 5, 6]"
      ]
     },
     "execution_count": 10,
     "metadata": {},
     "output_type": "execute_result"
    }
   ],
   "source": [
    "list_number[2:7]"
   ]
  },
  {
   "cell_type": "code",
   "execution_count": 11,
   "id": "449e0f55-4f1c-461f-a9c8-15b80feae9c0",
   "metadata": {},
   "outputs": [
    {
     "data": {
      "text/plain": [
       "[3, 3, 4, 5]"
      ]
     },
     "execution_count": 11,
     "metadata": {},
     "output_type": "execute_result"
    }
   ],
   "source": [
    "list_number[-5:-1]"
   ]
  },
  {
   "cell_type": "code",
   "execution_count": 12,
   "id": "a2c8d8f2-3c9c-4878-8c51-c162e2030b7f",
   "metadata": {},
   "outputs": [
    {
     "data": {
      "text/plain": [
       "[1, 3, 4, 6]"
      ]
     },
     "execution_count": 12,
     "metadata": {},
     "output_type": "execute_result"
    }
   ],
   "source": [
    "list_number[::2]"
   ]
  },
  {
   "cell_type": "markdown",
   "id": "6813b061-d516-4186-901a-9a22d744bdbd",
   "metadata": {},
   "source": [
    "##### **Slicing : Tuples**"
   ]
  },
  {
   "cell_type": "code",
   "execution_count": 14,
   "id": "9016b9b2-39c1-472f-b85b-bab434256f84",
   "metadata": {},
   "outputs": [],
   "source": [
    "sample_tuples =(100, 200, 300, 400, 500)\n"
   ]
  },
  {
   "cell_type": "code",
   "execution_count": 15,
   "id": "b6653ca5-5114-42d4-bd04-e5301d3c45fb",
   "metadata": {},
   "outputs": [
    {
     "data": {
      "text/plain": [
       "(100, 200, 300)"
      ]
     },
     "execution_count": 15,
     "metadata": {},
     "output_type": "execute_result"
    }
   ],
   "source": [
    "sample_tuples[:3]"
   ]
  },
  {
   "cell_type": "code",
   "execution_count": 16,
   "id": "932f007b-ff71-4221-be9c-f6cfe62a4d68",
   "metadata": {},
   "outputs": [
    {
     "data": {
      "text/plain": [
       "(300, 400)"
      ]
     },
     "execution_count": 16,
     "metadata": {},
     "output_type": "execute_result"
    }
   ],
   "source": [
    "sample_tuples[-3:-1]"
   ]
  },
  {
   "cell_type": "markdown",
   "id": "e72d2c55-b918-41cd-8eb2-8bcd7b5c34e6",
   "metadata": {},
   "source": [
    "#### **Slicing : Range**"
   ]
  },
  {
   "cell_type": "code",
   "execution_count": 28,
   "id": "dc97804d-17b3-4f65-a4d9-7e6734210502",
   "metadata": {},
   "outputs": [
    {
     "name": "stdout",
     "output_type": "stream",
     "text": [
      "[2, 3]\n"
     ]
    }
   ],
   "source": [
    "n = range(10)\n",
    "print(list(n[2:4]))\n"
   ]
  },
  {
   "cell_type": "code",
   "execution_count": 30,
   "id": "42b8f2b8-0d8a-4c5c-ae32-093382081ff8",
   "metadata": {},
   "outputs": [
    {
     "data": {
      "text/plain": [
       "range(9, -1, -1)"
      ]
     },
     "execution_count": 30,
     "metadata": {},
     "output_type": "execute_result"
    }
   ],
   "source": [
    "n[::-1]"
   ]
  },
  {
   "cell_type": "markdown",
   "id": "1f72bc50-b3e3-4092-944d-0005eaac11da",
   "metadata": {},
   "source": [
    "##### **Concatenation**\n",
    "\n",
    "Concatenation means joining two or more sequences like strings, lists, or tuples using the + operator.\n",
    "\n"
   ]
  },
  {
   "cell_type": "markdown",
   "id": "48f225f5-81e7-4d88-b3d6-ccc04b29fbbf",
   "metadata": {},
   "source": [
    "##### **Concatenation on Strings**"
   ]
  },
  {
   "cell_type": "code",
   "execution_count": 31,
   "id": "b7c23d1c-1c68-4d4d-905e-700041b67c06",
   "metadata": {},
   "outputs": [
    {
     "name": "stdout",
     "output_type": "stream",
     "text": [
      "Hello World\n"
     ]
    }
   ],
   "source": [
    "a = \"Hello\"\n",
    "b = \" World\"\n",
    "result = a + b\n",
    "print(result)  \n"
   ]
  },
  {
   "cell_type": "code",
   "execution_count": 39,
   "id": "68fd99b3-2102-41af-8687-4e659a0a30c6",
   "metadata": {},
   "outputs": [
    {
     "data": {
      "text/plain": [
       "'Learning Data Scince by DkData Spice UPP'"
      ]
     },
     "execution_count": 39,
     "metadata": {},
     "output_type": "execute_result"
    }
   ],
   "source": [
    "str_sample = \"Learning Data Scince by Dk\"\n",
    "str_sample + \"Data Spice UPP\""
   ]
  },
  {
   "cell_type": "markdown",
   "id": "4ef26077-4297-46f7-bb52-91417b53abc5",
   "metadata": {},
   "source": [
    "##### **Concatenation on List**"
   ]
  },
  {
   "cell_type": "code",
   "execution_count": 33,
   "id": "ba2ca1c5-b12f-48f5-9c25-6779a69a43fd",
   "metadata": {},
   "outputs": [
    {
     "name": "stdout",
     "output_type": "stream",
     "text": [
      "[1, 2, 3, 4, 5, 6]\n"
     ]
    }
   ],
   "source": [
    "list1 = [1, 2, 3]\n",
    "list2 = [4, 5, 6]\n",
    "result = list1 + list2\n",
    "print(result)\n"
   ]
  },
  {
   "cell_type": "code",
   "execution_count": 38,
   "id": "c4c4499b-44df-4efc-87f2-390bee09bad1",
   "metadata": {},
   "outputs": [
    {
     "data": {
      "text/plain": [
       "[1, 2, 3, 5, 34]"
      ]
     },
     "execution_count": 38,
     "metadata": {},
     "output_type": "execute_result"
    }
   ],
   "source": [
    "list1 = [1, 2, 3, 5]\n",
    "list1 +[34]\n"
   ]
  },
  {
   "cell_type": "markdown",
   "id": "a359d467-4a44-4315-a8fa-d13103651589",
   "metadata": {},
   "source": [
    "##### **Concatenation on Tuples**"
   ]
  },
  {
   "cell_type": "code",
   "execution_count": null,
   "id": "d0e16b0b-e6c7-421d-b6e4-6a8760233c71",
   "metadata": {},
   "outputs": [],
   "source": [
    "tuple1 = (10, 20)\n",
    "tuple2 = (30, 40)\n",
    "result = tuple1 + tuple2\n",
    "print(result)\n"
   ]
  },
  {
   "cell_type": "markdown",
   "id": "037dcb71-9b25-4a29-bb3d-526d9df651b5",
   "metadata": {},
   "source": [
    "##### **Multiplication**\n",
    "\n",
    "Multiplication can be used with numbers, sequences (strings, lists, tuples), and some special types."
   ]
  },
  {
   "cell_type": "code",
   "execution_count": 36,
   "id": "ff492064-188c-4e5d-bfef-4a3e136df4e5",
   "metadata": {},
   "outputs": [
    {
     "data": {
      "text/plain": [
       "[1, 2, 3, 3, 4, 5, 6, 1, 2, 3, 3, 4, 5, 6]"
      ]
     },
     "execution_count": 36,
     "metadata": {},
     "output_type": "execute_result"
    }
   ],
   "source": [
    "list_number = [1, 2, 3, 3,  4, 5, 6]\n",
    "list_number*2"
   ]
  },
  {
   "cell_type": "markdown",
   "id": "c4a2d891-2169-4347-8bb0-792f82923417",
   "metadata": {},
   "source": [
    "Array "
   ]
  },
  {
   "cell_type": "code",
   "execution_count": 52,
   "id": "90a1aee3-1e72-4ab2-a45d-3bd31eb4ec7b",
   "metadata": {},
   "outputs": [],
   "source": [
    "from array import *\n",
    "arr_sample =array(\"i\", [1, 2, 4, 5, 6, 10, 20])\n",
    "arrsample2 =array(\"i\", [40, 50])\n",
    "\n"
   ]
  },
  {
   "cell_type": "code",
   "execution_count": 54,
   "id": "5fc3c96c-db0b-4e3f-9475-4b6f772fd943",
   "metadata": {},
   "outputs": [
    {
     "name": "stdout",
     "output_type": "stream",
     "text": [
      "array('i', [1, 2, 4, 5, 6, 10, 20, 1, 2, 4, 5, 6, 10, 20])\n"
     ]
    }
   ],
   "source": [
    "print(arr_sample*2)"
   ]
  },
  {
   "cell_type": "code",
   "execution_count": null,
   "id": "3113e5d1-c86c-425d-afe1-69c8fe51122c",
   "metadata": {},
   "outputs": [],
   "source": []
  }
 ],
 "metadata": {
  "kernelspec": {
   "display_name": "Python 3 (ipykernel)",
   "language": "python",
   "name": "python3"
  },
  "language_info": {
   "codemirror_mode": {
    "name": "ipython",
    "version": 3
   },
   "file_extension": ".py",
   "mimetype": "text/x-python",
   "name": "python",
   "nbconvert_exporter": "python",
   "pygments_lexer": "ipython3",
   "version": "3.12.7"
  }
 },
 "nbformat": 4,
 "nbformat_minor": 5
}
