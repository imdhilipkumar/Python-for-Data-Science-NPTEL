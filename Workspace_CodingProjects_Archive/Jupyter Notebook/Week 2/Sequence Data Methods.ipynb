{
 "cells": [
  {
   "cell_type": "markdown",
   "id": "e13f91c3-babc-4e3a-a1a1-18b7699099b4",
   "metadata": {},
   "source": [
    "### **<center>Sequence Data Methods</center>**"
   ]
  },
  {
   "cell_type": "markdown",
   "id": "176a0712-4146-411b-81d8-40bc1ecfe3ff",
   "metadata": {},
   "source": [
    "#### **String Methods(str)**"
   ]
  },
  {
   "cell_type": "markdown",
   "id": "6e38f911-df5d-4f51-8643-b5aa2b3c1a60",
   "metadata": {},
   "source": [
    "##### **🔹capitalize()**\n",
    "##### ✅ Converts the first character to uppercase, rest to lowercase."
   ]
  },
  {
   "cell_type": "code",
   "execution_count": 4,
   "id": "739566da-1b79-4430-9852-aeb5303bdd36",
   "metadata": {},
   "outputs": [
    {
     "name": "stdout",
     "output_type": "stream",
     "text": [
      "Learning python for data science\n"
     ]
    }
   ],
   "source": [
    "sample = \"learning python for data Science\"\n",
    "print(text.capitalize()) \n"
   ]
  },
  {
   "cell_type": "markdown",
   "id": "20f14860-c519-4d9e-b156-062719a02998",
   "metadata": {},
   "source": [
    "##### **🔹title()**\n",
    "✅ Capitalizes the first letter of every word."
   ]
  },
  {
   "cell_type": "code",
   "execution_count": 5,
   "id": "24608ca3-8a75-4623-8abe-fb3328973b07",
   "metadata": {},
   "outputs": [
    {
     "name": "stdout",
     "output_type": "stream",
     "text": [
      "Learning Python For Data Science\n"
     ]
    }
   ],
   "source": [
    "print(sample.title())\n"
   ]
  },
  {
   "cell_type": "markdown",
   "id": "5fee600a-a388-4e62-9052-aec3e8fa886c",
   "metadata": {},
   "source": [
    "##### **🔹swapcase()**\n",
    "#####  ✅Swaps uppercase to lowercase & vice versa."
   ]
  },
  {
   "cell_type": "code",
   "execution_count": 6,
   "id": "96807b65-80b7-4fad-92eb-fdcda4b3f3c3",
   "metadata": {},
   "outputs": [
    {
     "name": "stdout",
     "output_type": "stream",
     "text": [
      "LEARNING PYTHON FOR DATA sCIENCE\n"
     ]
    }
   ],
   "source": [
    "print(sample.swapcase())"
   ]
  },
  {
   "cell_type": "markdown",
   "id": "f7e26065-365a-491d-9beb-8ec5a95ceb57",
   "metadata": {},
   "source": [
    "##### **🔹find('n')**\n",
    "##### ✅ Returns index of first occurrence of 'n', else -1 if not found."
   ]
  },
  {
   "cell_type": "code",
   "execution_count": 8,
   "id": "11f817ff-cae1-4a3b-8b10-e88743391565",
   "metadata": {},
   "outputs": [
    {
     "name": "stdout",
     "output_type": "stream",
     "text": [
      "9\n",
      "20\n"
     ]
    }
   ],
   "source": [
    "print(sample.find('p'))\n",
    "print(sample.find('d'))"
   ]
  },
  {
   "cell_type": "markdown",
   "id": "0c2265cd-e749-4863-8ede-2af9566a328d",
   "metadata": {},
   "source": [
    "##### 🔹**count(\"a\")**\n",
    "##### ✅ Returns count of occurrences of \"a\" in a string."
   ]
  },
  {
   "cell_type": "code",
   "execution_count": 10,
   "id": "7aafc5c9-7de2-475d-989c-ead98dd6b093",
   "metadata": {},
   "outputs": [
    {
     "name": "stdout",
     "output_type": "stream",
     "text": [
      "3\n"
     ]
    }
   ],
   "source": [
    "print(sample.count(\"a\"))"
   ]
  },
  {
   "cell_type": "markdown",
   "id": "86ed4450-8873-412d-8764-ea2ec6a79fe0",
   "metadata": {},
   "source": [
    "##### **🔹replace(\"a\", \"b\")**\n",
    "##### ✅ Replaces all occurrences of \"a\" with \"b\"."
   ]
  },
  {
   "cell_type": "code",
   "execution_count": 11,
   "id": "c6301979-f737-4890-bca7-51bc74ae2a13",
   "metadata": {},
   "outputs": [
    {
     "name": "stdout",
     "output_type": "stream",
     "text": [
      "learning python to data Science\n"
     ]
    }
   ],
   "source": [
    "print(sample.replace(\"for\", \"to\"))"
   ]
  },
  {
   "cell_type": "markdown",
   "id": "57311ad6-6179-4c63-9e68-e372ee8159a3",
   "metadata": {},
   "source": [
    "##### **🔹isalnum()**\n",
    "##### ✅ Checks if a string only contains letters and numbers (no spaces/special chars)."
   ]
  },
  {
   "cell_type": "code",
   "execution_count": 12,
   "id": "60d98ed7-9736-42fc-a7bd-c9de47e6a686",
   "metadata": {},
   "outputs": [
    {
     "data": {
      "text/plain": [
       "False"
      ]
     },
     "execution_count": 12,
     "metadata": {},
     "output_type": "execute_result"
    }
   ],
   "source": [
    "sample.isalnum()"
   ]
  },
  {
   "cell_type": "code",
   "execution_count": 15,
   "id": "878f81aa-2dee-4a05-b207-e69ea335e163",
   "metadata": {},
   "outputs": [],
   "source": [
    "sample_data1 = \"ABZY123\""
   ]
  },
  {
   "cell_type": "code",
   "execution_count": 16,
   "id": "52fa313d-6496-4ced-9573-b5441d13f263",
   "metadata": {},
   "outputs": [
    {
     "data": {
      "text/plain": [
       "True"
      ]
     },
     "execution_count": 16,
     "metadata": {},
     "output_type": "execute_result"
    }
   ],
   "source": [
    "sample_data1.isalnum()"
   ]
  },
  {
   "cell_type": "markdown",
   "id": "9c7be943-a841-42e4-afa6-b8eb2d3a6127",
   "metadata": {},
   "source": [
    "##### **🔹\"{}.{}.{}\".format(n1, n2, n3)**\n",
    "##### ✅ Formats a string using the given values."
   ]
  },
  {
   "cell_type": "code",
   "execution_count": 17,
   "id": "d7d5bdb2-5421-4197-b87e-0bad5111dc4b",
   "metadata": {},
   "outputs": [],
   "source": [
    "sample_data1 =\"Python\"\n",
    "sample_data2 = \"for\"\n",
    "sample_data3 = \"Data science\""
   ]
  },
  {
   "cell_type": "code",
   "execution_count": 24,
   "id": "3d016fcc-d394-4f6f-9912-df36888f1dc6",
   "metadata": {},
   "outputs": [
    {
     "name": "stdout",
     "output_type": "stream",
     "text": [
      "Python for Data science\n"
     ]
    }
   ],
   "source": [
    "print(\"{} {} {}\".format(sample_data1, sample_data2, sample_data3))"
   ]
  },
  {
   "cell_type": "markdown",
   "id": "26d8dcc1-d5a2-4e78-86d1-51403c66664d",
   "metadata": {},
   "source": [
    "##### **📌Alternative: f-strings (f\"{}\")**"
   ]
  },
  {
   "cell_type": "code",
   "execution_count": 25,
   "id": "4243f025-cf11-4731-87e8-c59a4afbfdd6",
   "metadata": {},
   "outputs": [
    {
     "name": "stdout",
     "output_type": "stream",
     "text": [
      "Python for Data science\n"
     ]
    }
   ],
   "source": [
    "print(f\"{sample_data1} {sample_data2} {sample_data3}\") "
   ]
  },
  {
   "cell_type": "markdown",
   "id": "46c5b9b8-ff8a-4ec6-9ad8-ea27af061369",
   "metadata": {},
   "source": [
    "##### **🔹len()**\n",
    "##### ✅ Returns length (number of elements) of a string, list, tuple, or dictionary."
   ]
  },
  {
   "cell_type": "code",
   "execution_count": 26,
   "id": "4f679e63-d785-4b55-95c8-1853733234fb",
   "metadata": {},
   "outputs": [
    {
     "data": {
      "text/plain": [
       "32"
      ]
     },
     "execution_count": 26,
     "metadata": {},
     "output_type": "execute_result"
    }
   ],
   "source": [
    "len(sample)"
   ]
  },
  {
   "cell_type": "code",
   "execution_count": 27,
   "id": "40abea9e-ff5a-4a0c-b384-6bbe3262121e",
   "metadata": {},
   "outputs": [
    {
     "data": {
      "text/plain": [
       "11"
      ]
     },
     "execution_count": 27,
     "metadata": {},
     "output_type": "execute_result"
    }
   ],
   "source": [
    "lst = [1, 2, 3, 4, 5, 6, 20, 10, \"Dk\", 20.4, \"sample\"] # list\n",
    "len(lst)"
   ]
  },
  {
   "cell_type": "markdown",
   "id": "381c1dda-8309-497d-a2fb-cb860d536081",
   "metadata": {},
   "source": [
    "#### **List Methods (list)**"
   ]
  },
  {
   "cell_type": "markdown",
   "id": "ca090237-1287-4fbd-a6ac-33771a5d2f85",
   "metadata": {},
   "source": [
    "##### **🔹clear()**\n",
    "##### ✅ Removes all elements from a list (empties it)."
   ]
  },
  {
   "cell_type": "code",
   "execution_count": 40,
   "id": "74b48f46-c3be-43d4-b934-ccf836b317e3",
   "metadata": {},
   "outputs": [],
   "source": [
    "lst = [1, 2, 3, 4, 5, 6, 20, 10, \"Dk\", 20.4, \"sample\"]"
   ]
  },
  {
   "cell_type": "code",
   "execution_count": 34,
   "id": "7e595791-038e-43d5-a795-c1c775fb7f59",
   "metadata": {},
   "outputs": [
    {
     "name": "stdout",
     "output_type": "stream",
     "text": [
      "None\n"
     ]
    }
   ],
   "source": [
    "print(lst.clear())"
   ]
  },
  {
   "cell_type": "markdown",
   "id": "1cb57b20-1c45-471c-98b2-795c8fe8bf56",
   "metadata": {},
   "source": [
    "##### **🔹append()**\n",
    "##### ✅ Adds one element at the end of the list."
   ]
  },
  {
   "cell_type": "code",
   "execution_count": 46,
   "id": "236e1db3-59cb-45bc-8f90-1b1b939aa00a",
   "metadata": {},
   "outputs": [
    {
     "name": "stdout",
     "output_type": "stream",
     "text": [
      "[1, 2, 3, 4, 5, 6, 20, 10, 'Dk', 20.4, 'sample']\n"
     ]
    }
   ],
   "source": [
    "lst = [1, 2, 3, 4, 5, 6, 20, 10, \"Dk\", 20.4, \"sample\"]\n",
    "print(lst)"
   ]
  },
  {
   "cell_type": "code",
   "execution_count": 67,
   "id": "39696566-7944-4dd1-ab63-4a658264be4e",
   "metadata": {},
   "outputs": [
    {
     "name": "stdout",
     "output_type": "stream",
     "text": [
      "[1, 2, 3, 4, 5, 6, 20, 10, 'Dk', 20.4, 'sample', 'Dk', 'Dk', 'Dk', 4, 4, 4, 4, 200, 200, 200, 200, 200, 200, 200, 200, 200, 200, 200]\n"
     ]
    }
   ],
   "source": [
    "lst.append(200)\n",
    "print(lst)"
   ]
  },
  {
   "cell_type": "markdown",
   "id": "46fd466c-05c0-474f-89fd-32cfceb91c50",
   "metadata": {},
   "source": [
    "##### **🔹update()**  --❌ NOT for lists, only for sets & dictionaries\n",
    "##### ✅ Used in dict & set, NOT in lists."
   ]
  },
  {
   "cell_type": "code",
   "execution_count": 68,
   "id": "060c0e15-f90e-48de-af8a-cfd289c4128b",
   "metadata": {},
   "outputs": [
    {
     "name": "stdout",
     "output_type": "stream",
     "text": [
      "{'a': 1, 'b': 10, 'c': 3}\n"
     ]
    }
   ],
   "source": [
    "# Dictionary update\n",
    "dict1 = {\"a\": 1, \"b\": 2}\n",
    "dict1.update({\"b\": 10, \"c\": 3})\n",
    "print(dict1)  # Output: {'a': 1, 'b': 10, 'c': 3}"
   ]
  },
  {
   "cell_type": "code",
   "execution_count": 69,
   "id": "d3506de3-3734-4ba3-ac29-bfa144cfa7c3",
   "metadata": {},
   "outputs": [
    {
     "name": "stdout",
     "output_type": "stream",
     "text": [
      "{1, 2, 3, 4, 5, 6}\n"
     ]
    }
   ],
   "source": [
    "# Set update\n",
    "set1 = {1, 2, 3}\n",
    "set1.update([4, 5, 6])\n",
    "print(set1)  # Output: {1, 2, 3, 4, 5, 6}"
   ]
  },
  {
   "cell_type": "markdown",
   "id": "e28cca5b-d318-4bdb-ac14-498abb4aa0ec",
   "metadata": {},
   "source": [
    "##### **🔹insert(index, element)**\n",
    "##### ✅ Inserts an element at a specific position in the list."
   ]
  },
  {
   "cell_type": "code",
   "execution_count": 79,
   "id": "8c9c65ea-2252-48fe-a90d-47ddce50629d",
   "metadata": {},
   "outputs": [],
   "source": [
    "lst = [1, 2, 3, 4, 5, 6, 20, 10, \"Dk\", 20.4, \"sample\"]"
   ]
  },
  {
   "cell_type": "code",
   "execution_count": 80,
   "id": "58192795-68f5-4542-9915-986614faa50d",
   "metadata": {},
   "outputs": [
    {
     "name": "stdout",
     "output_type": "stream",
     "text": [
      "[1, 2, 3, 4, 5, 6, 20, 10, 'Dk', 20.4, 'BAASHA', 'sample']\n"
     ]
    }
   ],
   "source": [
    "(lst.insert(10, \"BAASHA\"))\n",
    "print(lst)"
   ]
  },
  {
   "cell_type": "markdown",
   "id": "5ce05347-7bde-4046-8b67-df2ef6bab6e7",
   "metadata": {},
   "source": [
    "##### **🔹pop()**\n",
    "##### ✅ Removes and returns the last element (or a specific index)."
   ]
  },
  {
   "cell_type": "code",
   "execution_count": 84,
   "id": "6ff4224c-17e3-4b8b-898f-c2cc1e5d1a4c",
   "metadata": {},
   "outputs": [
    {
     "name": "stdout",
     "output_type": "stream",
     "text": [
      "20.4\n",
      "[1, 2, 3, 4, 5, 6, 20, 10, 'Dk']\n"
     ]
    }
   ],
   "source": [
    "print(lst.pop()) # Removed Last Element\n",
    "print(lst) # Return the remaining Elements"
   ]
  },
  {
   "cell_type": "markdown",
   "id": "d84cf7cf-2c8b-4aac-a26e-7708d2036d88",
   "metadata": {},
   "source": [
    "##### **🔹remove(value)**\n",
    "##### ✅ Removes the first occurrence of a given value."
   ]
  },
  {
   "cell_type": "code",
   "execution_count": 95,
   "id": "1237f749-51c1-412a-bc7b-0d899e5fa666",
   "metadata": {},
   "outputs": [],
   "source": [
    "lst = [1, 2, 3, 4, 5, 6, 20, 10, \"Dk\", 20.4,20, 40, \"sample\"]"
   ]
  },
  {
   "cell_type": "code",
   "execution_count": 96,
   "id": "899584d7-4962-434d-ad0c-2ada44f16f82",
   "metadata": {},
   "outputs": [
    {
     "name": "stdout",
     "output_type": "stream",
     "text": [
      "[1, 2, 3, 4, 5, 6, 20, 10, 'Dk', 20.4, 20, 'sample']\n"
     ]
    }
   ],
   "source": [
    "lst.remove(40)\n",
    "print(lst)"
   ]
  },
  {
   "cell_type": "markdown",
   "id": "358ea377-98fa-4f5f-a601-298205e7b272",
   "metadata": {},
   "source": [
    "##### **🔹del**\n",
    "##### ✅ Deletes a specific element, slice, or the entire list."
   ]
  },
  {
   "cell_type": "code",
   "execution_count": 97,
   "id": "9ea982db-ed72-4f68-addb-9c01d295e6d8",
   "metadata": {},
   "outputs": [
    {
     "name": "stdout",
     "output_type": "stream",
     "text": [
      "[1, 3, 4]\n"
     ]
    }
   ],
   "source": [
    "numbers = [1, 2, 3, 4]\n",
    "del numbers[1]  # Deletes the element at index 1\n",
    "print(numbers)  "
   ]
  },
  {
   "cell_type": "markdown",
   "id": "b717ddc2-c1bb-4e2b-8ad1-0be216e0e45e",
   "metadata": {},
   "source": [
    "##### **🔹Deleting a slice:**"
   ]
  },
  {
   "cell_type": "code",
   "execution_count": 104,
   "id": "cd4c9fe7-540f-4270-b4da-173c97c6f04a",
   "metadata": {},
   "outputs": [
    {
     "name": "stdout",
     "output_type": "stream",
     "text": [
      "[1, 4, 5]\n"
     ]
    }
   ],
   "source": [
    "numbers = [1, 2, 3, 4, 5]\n",
    "del numbers[1:3]  # Deletes index 1 and 2\n",
    "print(numbers)  "
   ]
  },
  {
   "cell_type": "markdown",
   "id": "0687f2b3-ecdc-4389-9f54-ba989bcf2726",
   "metadata": {},
   "source": [
    "##### **🔹Deleting the entire list:**"
   ]
  },
  {
   "cell_type": "code",
   "execution_count": 105,
   "id": "8504eec7-1f16-4afe-af64-5352b956ae76",
   "metadata": {},
   "outputs": [],
   "source": [
    "del numbers\n",
    "# print(numbers)  # NameError: name 'numbers' is not defined"
   ]
  },
  {
   "cell_type": "markdown",
   "id": "38d6ea87-9b5d-4201-b365-c76d1d9e8dba",
   "metadata": {},
   "source": [
    "##### **🔹extend()**\n",
    "##### ✅ Merges another list into an existing one (unlike append())."
   ]
  },
  {
   "cell_type": "code",
   "execution_count": 106,
   "id": "e5975fe3-019e-4159-8805-a875ba1caf4d",
   "metadata": {},
   "outputs": [
    {
     "name": "stdout",
     "output_type": "stream",
     "text": [
      "[1, 2, 3, 4, 5, 6]\n"
     ]
    }
   ],
   "source": [
    "list1 = [1, 2, 3]\n",
    "list2 = [4, 5, 6]\n",
    "\n",
    "list1.extend(list2)\n",
    "print(list1)  # Output: [1, 2, 3, 4, 5, 6]\n"
   ]
  },
  {
   "cell_type": "markdown",
   "id": "31054a0e-2d36-4949-ac96-25f2ec0f536c",
   "metadata": {},
   "source": [
    "##### **📌Difference between extend() and append()**"
   ]
  },
  {
   "cell_type": "code",
   "execution_count": null,
   "id": "670e22c4-1bad-4188-bd70-68859fb15b53",
   "metadata": {},
   "outputs": [],
   "source": [
    "list1 = [1, 2, 3]\n",
    "list1.append([4, 5, 6])\n",
    "print(list1)  # Output: [1, 2, 3, [4, 5, 6]]  (nested list)\n"
   ]
  },
  {
   "cell_type": "markdown",
   "id": "0ec8134f-fb18-4e3f-b0bf-327d15e00e71",
   "metadata": {},
   "source": [
    "##### **🔹extend() merges elements**\n",
    "##### **🔹append() adds the entire list as one element**"
   ]
  },
  {
   "cell_type": "markdown",
   "id": "caf7aac7-56de-41d4-b99b-6c73038db8f8",
   "metadata": {},
   "source": [
    "##### **Set Operation**"
   ]
  },
  {
   "cell_type": "code",
   "execution_count": 2,
   "id": "34d07c22-f9e9-4fe2-8528-82f1802fd6cf",
   "metadata": {},
   "outputs": [],
   "source": [
    "set_sample = {\"example\", 24.5, \"data\" , 24, 87.5}\n",
    "set_sample2 = {24, 89.2, \"data\"}"
   ]
  },
  {
   "cell_type": "markdown",
   "id": "0c285c37-0463-432e-a1d6-bf02ef7a6e4c",
   "metadata": {},
   "source": [
    "##### Union A | B"
   ]
  },
  {
   "cell_type": "code",
   "execution_count": 3,
   "id": "914175db-d49a-46d9-b01d-d21bbf27be5e",
   "metadata": {},
   "outputs": [
    {
     "data": {
      "text/plain": [
       "{24, 24.5, 87.5, 89.2, 'data', 'example'}"
      ]
     },
     "execution_count": 3,
     "metadata": {},
     "output_type": "execute_result"
    }
   ],
   "source": [
    "set_sample | set_sample2"
   ]
  },
  {
   "cell_type": "code",
   "execution_count": 7,
   "id": "e2227cb8-82f6-4147-92e1-b9bf8b0c1490",
   "metadata": {},
   "outputs": [
    {
     "data": {
      "text/plain": [
       "{24, 24.5, 87.5, 89.2, 'data', 'example'}"
      ]
     },
     "execution_count": 7,
     "metadata": {},
     "output_type": "execute_result"
    }
   ],
   "source": [
    "set_sample.union(set_sample2)"
   ]
  },
  {
   "cell_type": "markdown",
   "id": "9a20c0ee-5488-4de7-849b-f2653a1a0b7f",
   "metadata": {},
   "source": [
    "##### **Intersection**"
   ]
  },
  {
   "cell_type": "code",
   "execution_count": 8,
   "id": "cfdacee0-46a7-4da7-a8b8-2f7090e061bc",
   "metadata": {},
   "outputs": [
    {
     "data": {
      "text/plain": [
       "{24, 'data'}"
      ]
     },
     "execution_count": 8,
     "metadata": {},
     "output_type": "execute_result"
    }
   ],
   "source": [
    "set_sample.intersection(set_sample2)"
   ]
  }
 ],
 "metadata": {
  "kernelspec": {
   "display_name": "Python 3 (ipykernel)",
   "language": "python",
   "name": "python3"
  },
  "language_info": {
   "codemirror_mode": {
    "name": "ipython",
    "version": 3
   },
   "file_extension": ".py",
   "mimetype": "text/x-python",
   "name": "python",
   "nbconvert_exporter": "python",
   "pygments_lexer": "ipython3",
   "version": "3.12.7"
  }
 },
 "nbformat": 4,
 "nbformat_minor": 5
}
