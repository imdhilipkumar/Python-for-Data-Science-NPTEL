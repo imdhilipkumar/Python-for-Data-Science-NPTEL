{
 "cells": [
  {
   "cell_type": "markdown",
   "metadata": {
    "id": "l6OcwrJHawN-"
   },
   "source": [
    "## Strings"
   ]
  },
  {
   "cell_type": "code",
   "execution_count": null,
   "metadata": {
    "id": "iMHYTZKpagf1"
   },
   "outputs": [],
   "source": [
    "my_string = \"Hello!\" #string\n",
    "my_string_list = [\"H\", \"e\", \"l\", \"l\", \"o\", \"!\"] #list"
   ]
  },
  {
   "cell_type": "code",
   "execution_count": null,
   "metadata": {
    "colab": {
     "base_uri": "https://localhost:8080/"
    },
    "executionInfo": {
     "elapsed": 4,
     "status": "ok",
     "timestamp": 1738328114554,
     "user": {
      "displayName": "Manav Mishra",
      "userId": "03081791768232864398"
     },
     "user_tz": -330
    },
    "id": "weXuzBzAa6Kb",
    "outputId": "15739130-13aa-46e3-d9af-291f5a7c9842"
   },
   "outputs": [
    {
     "data": {
      "text/plain": [
       "False"
      ]
     },
     "execution_count": 6,
     "metadata": {},
     "output_type": "execute_result"
    }
   ],
   "source": [
    "my_string == my_string_list"
   ]
  },
  {
   "cell_type": "code",
   "execution_count": null,
   "metadata": {
    "colab": {
     "base_uri": "https://localhost:8080/"
    },
    "executionInfo": {
     "elapsed": 661,
     "status": "ok",
     "timestamp": 1738328179854,
     "user": {
      "displayName": "Manav Mishra",
      "userId": "03081791768232864398"
     },
     "user_tz": -330
    },
    "id": "8j8Jp5l4baEt",
    "outputId": "1670793d-4f7d-4eed-dbc3-9104cba668c7"
   },
   "outputs": [
    {
     "name": "stdout",
     "output_type": "stream",
     "text": [
      "H\n",
      "e\n",
      "l\n",
      "l\n",
      "o\n",
      "!\n"
     ]
    }
   ],
   "source": [
    "print(my_string[0])\n",
    "print(my_string[1])\n",
    "print(my_string[2])\n",
    "print(my_string[3])\n",
    "print(my_string[4])\n",
    "print(my_string[5])"
   ]
  },
  {
   "cell_type": "code",
   "execution_count": null,
   "metadata": {
    "colab": {
     "base_uri": "https://localhost:8080/"
    },
    "executionInfo": {
     "elapsed": 405,
     "status": "ok",
     "timestamp": 1738328237341,
     "user": {
      "displayName": "Manav Mishra",
      "userId": "03081791768232864398"
     },
     "user_tz": -330
    },
    "id": "6_2b_MPTbs5z",
    "outputId": "7f6c0fae-5f67-4cf4-aef2-ceb6b77b8e38"
   },
   "outputs": [
    {
     "name": "stdout",
     "output_type": "stream",
     "text": [
      "!\n",
      "o\n",
      "l\n",
      "l\n",
      "e\n",
      "H\n"
     ]
    }
   ],
   "source": [
    "print(my_string[-1])\n",
    "print(my_string[-2])\n",
    "print(my_string[-3])\n",
    "print(my_string[-4])\n",
    "print(my_string[-5])\n",
    "print(my_string[-6])"
   ]
  },
  {
   "cell_type": "code",
   "execution_count": null,
   "metadata": {
    "colab": {
     "base_uri": "https://localhost:8080/"
    },
    "executionInfo": {
     "elapsed": 367,
     "status": "ok",
     "timestamp": 1738328554162,
     "user": {
      "displayName": "Manav Mishra",
      "userId": "03081791768232864398"
     },
     "user_tz": -330
    },
    "id": "OTLz_5drb42C",
    "outputId": "768c1b3d-cf6b-47ad-b5e8-416279fde2a9"
   },
   "outputs": [
    {
     "name": "stdout",
     "output_type": "stream",
     "text": [
      "PythonFo\n",
      "honForDa\n",
      "honForDataScience\n",
      "PythonForD\n"
     ]
    }
   ],
   "source": [
    "my_new_string = \"PythonForDataScience\"\n",
    "\n",
    "print(my_new_string[0:8])\n",
    "print(my_new_string[3:11])\n",
    "print(my_new_string[3:])\n",
    "print(my_new_string[:10])"
   ]
  },
  {
   "cell_type": "code",
   "execution_count": null,
   "metadata": {
    "colab": {
     "base_uri": "https://localhost:8080/"
    },
    "executionInfo": {
     "elapsed": 406,
     "status": "ok",
     "timestamp": 1738328591518,
     "user": {
      "displayName": "Manav Mishra",
      "userId": "03081791768232864398"
     },
     "user_tz": -330
    },
    "id": "NgkfFRvychNq",
    "outputId": "7df9a9d0-fb24-4fbd-97db-809981dda4f5"
   },
   "outputs": [
    {
     "name": "stdout",
     "output_type": "stream",
     "text": [
      "20\n"
     ]
    }
   ],
   "source": [
    "print(len(my_new_string))"
   ]
  },
  {
   "cell_type": "code",
   "execution_count": null,
   "metadata": {
    "colab": {
     "base_uri": "https://localhost:8080/"
    },
    "executionInfo": {
     "elapsed": 635,
     "status": "ok",
     "timestamp": 1738328718206,
     "user": {
      "displayName": "Manav Mishra",
      "userId": "03081791768232864398"
     },
     "user_tz": -330
    },
    "id": "_dkJjJG9dUhl",
    "outputId": "bd54faa6-3688-44e6-f388-d55eec3795ba"
   },
   "outputs": [
    {
     "name": "stdout",
     "output_type": "stream",
     "text": [
      "PythonForDataScience\n",
      "PtoFraacec\n",
      "PhFDaic\n"
     ]
    }
   ],
   "source": [
    "print(my_new_string[0:20:1])\n",
    "print(my_new_string[0:20:2])\n",
    "print(my_new_string[0:20:3])"
   ]
  },
  {
   "cell_type": "markdown",
   "metadata": {
    "id": "Et6FDDXkdksr"
   },
   "source": [
    "- For string slicing: my_string[start: stop: jump]"
   ]
  },
  {
   "cell_type": "code",
   "execution_count": null,
   "metadata": {
    "colab": {
     "base_uri": "https://localhost:8080/"
    },
    "executionInfo": {
     "elapsed": 399,
     "status": "ok",
     "timestamp": 1738328793041,
     "user": {
      "displayName": "Manav Mishra",
      "userId": "03081791768232864398"
     },
     "user_tz": -330
    },
    "id": "Dmfnqskndgzw",
    "outputId": "c4dcecea-7f3c-46c8-9532-03042d401979"
   },
   "outputs": [
    {
     "name": "stdout",
     "output_type": "stream",
     "text": [
      "ecneicSataDroFnohty\n"
     ]
    }
   ],
   "source": [
    "print(my_new_string[20:0:-1])"
   ]
  },
  {
   "cell_type": "code",
   "execution_count": null,
   "metadata": {
    "colab": {
     "base_uri": "https://localhost:8080/"
    },
    "executionInfo": {
     "elapsed": 437,
     "status": "ok",
     "timestamp": 1738328870106,
     "user": {
      "displayName": "Manav Mishra",
      "userId": "03081791768232864398"
     },
     "user_tz": -330
    },
    "id": "HDwS_3Z4eAC0",
    "outputId": "4b697fb2-f215-4909-fddc-c54b95dddc67"
   },
   "outputs": [
    {
     "name": "stdout",
     "output_type": "stream",
     "text": [
      "ecneicSataDroFnohtyP\n"
     ]
    }
   ],
   "source": [
    "print(my_new_string[::-1])"
   ]
  },
  {
   "cell_type": "markdown",
   "metadata": {
    "id": "sA1oiI7hfcSw"
   },
   "source": [
    "Functionalities"
   ]
  },
  {
   "cell_type": "code",
   "execution_count": null,
   "metadata": {
    "colab": {
     "base_uri": "https://localhost:8080/"
    },
    "executionInfo": {
     "elapsed": 8,
     "status": "ok",
     "timestamp": 1738329457650,
     "user": {
      "displayName": "Manav Mishra",
      "userId": "03081791768232864398"
     },
     "user_tz": -330
    },
    "id": "x8YOLUNtfdMh",
    "outputId": "106c2068-68b2-4c56-9fb2-a643d58bd107"
   },
   "outputs": [
    {
     "name": "stdout",
     "output_type": "stream",
     "text": [
      "Welcome\n",
      "2\n",
      "3\n",
      "0\n",
      "WELCOME\n",
      "welcome\n",
      "welcome\n",
      "welcome\n"
     ]
    }
   ],
   "source": [
    "function_string = \"welcome\"\n",
    "\n",
    "print(function_string.capitalize())\n",
    "print(function_string.count(\"e\"))\n",
    "print(function_string.find(\"c\"))\n",
    "print(function_string.index(\"w\"))\n",
    "print(function_string.upper())\n",
    "print(function_string.lower())\n",
    "print(function_string.upper().casefold())"
   ]
  },
  {
   "cell_type": "code",
   "execution_count": null,
   "metadata": {
    "colab": {
     "base_uri": "https://localhost:8080/",
     "height": 35
    },
    "executionInfo": {
     "elapsed": 421,
     "status": "ok",
     "timestamp": 1738329511940,
     "user": {
      "displayName": "Manav Mishra",
      "userId": "03081791768232864398"
     },
     "user_tz": -330
    },
    "id": "ydtMFa0wfsMO",
    "outputId": "e0b7028c-90ab-4368-bfcd-1cacd24bbc3a"
   },
   "outputs": [
    {
     "data": {
      "application/vnd.google.colaboratory.intrinsic+json": {
       "type": "string"
      },
      "text/plain": [
       "'w'"
      ]
     },
     "execution_count": 38,
     "metadata": {},
     "output_type": "execute_result"
    }
   ],
   "source": [
    "function_string[::9]\n",
    "\n",
    "# w e l c o m e\n",
    "# 0 1 2 3 4 5 6 7 8 9"
   ]
  },
  {
   "cell_type": "markdown",
   "metadata": {
    "id": "-a7ww-6NhIty"
   },
   "source": [
    "## Lists"
   ]
  },
  {
   "cell_type": "code",
   "execution_count": null,
   "metadata": {
    "colab": {
     "base_uri": "https://localhost:8080/"
    },
    "executionInfo": {
     "elapsed": 390,
     "status": "ok",
     "timestamp": 1738329776009,
     "user": {
      "displayName": "Manav Mishra",
      "userId": "03081791768232864398"
     },
     "user_tz": -330
    },
    "id": "AM6b58ctgv5l",
    "outputId": "3a2bc384-d502-45ad-eb2d-dfa5f22d3c55"
   },
   "outputs": [
    {
     "name": "stdout",
     "output_type": "stream",
     "text": [
      "<class 'list'>\n"
     ]
    }
   ],
   "source": [
    "my_list = [\"a\", \"b\", \"c\", \"d\"]\n",
    "my_heterogeneous_list = [0, \"apple\", 1.4, True]\n",
    "\n",
    "print(type(my_list))"
   ]
  },
  {
   "cell_type": "code",
   "execution_count": null,
   "metadata": {
    "colab": {
     "base_uri": "https://localhost:8080/"
    },
    "executionInfo": {
     "elapsed": 511,
     "status": "ok",
     "timestamp": 1738329829858,
     "user": {
      "displayName": "Manav Mishra",
      "userId": "03081791768232864398"
     },
     "user_tz": -330
    },
    "id": "EFk6H8hbh1tV",
    "outputId": "bc1dc8b6-4cc8-46a4-c68b-bd75017b1ef4"
   },
   "outputs": [
    {
     "name": "stdout",
     "output_type": "stream",
     "text": [
      "['z', 'b', 'c', 'd']\n"
     ]
    }
   ],
   "source": [
    "my_list[0] = \"z\"\n",
    "\n",
    "print(my_list)"
   ]
  },
  {
   "cell_type": "code",
   "execution_count": null,
   "metadata": {
    "colab": {
     "base_uri": "https://localhost:8080/"
    },
    "executionInfo": {
     "elapsed": 437,
     "status": "ok",
     "timestamp": 1738329901481,
     "user": {
      "displayName": "Manav Mishra",
      "userId": "03081791768232864398"
     },
     "user_tz": -330
    },
    "id": "d-AXpaociC1I",
    "outputId": "388e0e3b-5d48-4fdf-e2db-52b5609dad4b"
   },
   "outputs": [
    {
     "name": "stdout",
     "output_type": "stream",
     "text": [
      "[1, 2, 3, 4, 5]\n",
      "['a', 'b', 'c']\n",
      "3\n"
     ]
    }
   ],
   "source": [
    "nested_list = [[1,2,3,4,5], [\"a\", \"b\", \"c\"]]\n",
    "\n",
    "print(nested_list[0])\n",
    "print(nested_list[1])\n",
    "print(nested_list[0][2])"
   ]
  },
  {
   "cell_type": "code",
   "execution_count": null,
   "metadata": {
    "colab": {
     "base_uri": "https://localhost:8080/"
    },
    "executionInfo": {
     "elapsed": 403,
     "status": "ok",
     "timestamp": 1738330263042,
     "user": {
      "displayName": "Manav Mishra",
      "userId": "03081791768232864398"
     },
     "user_tz": -330
    },
    "id": "L0up5fxpiUFY",
    "outputId": "9ac0d0c2-a31e-483f-ca6b-0923050106fd"
   },
   "outputs": [
    {
     "name": "stdout",
     "output_type": "stream",
     "text": [
      "[1, 2, 3, 4, 5]\n",
      "3\n"
     ]
    }
   ],
   "source": [
    "my_temp_list = nested_list[0]\n",
    "\n",
    "print(my_temp_list)\n",
    "print(my_temp_list[2])"
   ]
  },
  {
   "cell_type": "code",
   "execution_count": null,
   "metadata": {
    "colab": {
     "base_uri": "https://localhost:8080/"
    },
    "executionInfo": {
     "elapsed": 6,
     "status": "ok",
     "timestamp": 1738330323271,
     "user": {
      "displayName": "Manav Mishra",
      "userId": "03081791768232864398"
     },
     "user_tz": -330
    },
    "id": "cmxZZ3gsigr1",
    "outputId": "663e3f7c-e7e4-4699-b35d-e8e3bb254e4f"
   },
   "outputs": [
    {
     "name": "stdout",
     "output_type": "stream",
     "text": [
      "2\n",
      "5\n",
      "3\n"
     ]
    }
   ],
   "source": [
    "print(len(nested_list))\n",
    "print(len(nested_list[0]))\n",
    "print(len(nested_list[1]))"
   ]
  },
  {
   "cell_type": "code",
   "execution_count": null,
   "metadata": {
    "colab": {
     "base_uri": "https://localhost:8080/"
    },
    "executionInfo": {
     "elapsed": 430,
     "status": "ok",
     "timestamp": 1738330539901,
     "user": {
      "displayName": "Manav Mishra",
      "userId": "03081791768232864398"
     },
     "user_tz": -330
    },
    "id": "rsACyY2NjZmn",
    "outputId": "b4a7beb1-4a6f-483a-c1fb-ea777eddfb66"
   },
   "outputs": [
    {
     "name": "stdout",
     "output_type": "stream",
     "text": [
      "[[[1, 2], [3, 4]], ['hi', 'hello']]\n",
      "3\n",
      "hi\n"
     ]
    }
   ],
   "source": [
    "my_bigger_nested_list = [[[1,2], [3,4]], [\"hi\", \"hello\"]]\n",
    "\n",
    "print(my_bigger_nested_list)\n",
    "print(my_bigger_nested_list[0][1][0])\n",
    "print(my_bigger_nested_list[1][0])"
   ]
  },
  {
   "cell_type": "code",
   "execution_count": null,
   "metadata": {
    "colab": {
     "base_uri": "https://localhost:8080/"
    },
    "executionInfo": {
     "elapsed": 19,
     "status": "ok",
     "timestamp": 1738330716417,
     "user": {
      "displayName": "Manav Mishra",
      "userId": "03081791768232864398"
     },
     "user_tz": -330
    },
    "id": "1sDasGaJkFXG",
    "outputId": "c19d2ae3-56ba-453c-8f52-2c722f4b449a"
   },
   "outputs": [
    {
     "name": "stdout",
     "output_type": "stream",
     "text": [
      "[1, 2, 3, 4, 7]\n",
      "[1, 2, 3, 7]\n",
      "[1, 2, 7]\n",
      "[1, 2, 15, 7]\n",
      "[]\n"
     ]
    }
   ],
   "source": [
    "my_list = [1,2,3,4]\n",
    "\n",
    "my_list.append(7)\n",
    "print(my_list)\n",
    "\n",
    "my_list.remove(4) # remove takes element directly\n",
    "print(my_list)\n",
    "\n",
    "my_list.pop(2) # pop takes index\n",
    "print(my_list)\n",
    "\n",
    "my_list.insert(2, 15)\n",
    "print(my_list)\n",
    "\n",
    "my_list.clear()\n",
    "print(my_list)"
   ]
  },
  {
   "cell_type": "code",
   "execution_count": null,
   "metadata": {
    "colab": {
     "base_uri": "https://localhost:8080/"
    },
    "executionInfo": {
     "elapsed": 391,
     "status": "ok",
     "timestamp": 1738330805746,
     "user": {
      "displayName": "Manav Mishra",
      "userId": "03081791768232864398"
     },
     "user_tz": -330
    },
    "id": "DWfvRlLNksZI",
    "outputId": "260e542f-d1f0-4993-8195-d082f436bea2"
   },
   "outputs": [
    {
     "data": {
      "text/plain": [
       "[4, 3, 2, 1]"
      ]
     },
     "execution_count": 63,
     "metadata": {},
     "output_type": "execute_result"
    }
   ],
   "source": [
    "my_list = [1,2,3,4]\n",
    "\n",
    "my_list[::-1]"
   ]
  },
  {
   "cell_type": "code",
   "execution_count": null,
   "metadata": {
    "colab": {
     "base_uri": "https://localhost:8080/"
    },
    "executionInfo": {
     "elapsed": 391,
     "status": "ok",
     "timestamp": 1738330845549,
     "user": {
      "displayName": "Manav Mishra",
      "userId": "03081791768232864398"
     },
     "user_tz": -330
    },
    "id": "qmahMb6olgcS",
    "outputId": "40756d1e-14d1-4cc1-d899-999e1b1713d4"
   },
   "outputs": [
    {
     "data": {
      "text/plain": [
       "[[3, 4], [1, 2]]"
      ]
     },
     "execution_count": 65,
     "metadata": {},
     "output_type": "execute_result"
    }
   ],
   "source": [
    "my_bigger_nested_list[0][::-1]"
   ]
  },
  {
   "cell_type": "code",
   "execution_count": null,
   "metadata": {
    "colab": {
     "base_uri": "https://localhost:8080/"
    },
    "executionInfo": {
     "elapsed": 399,
     "status": "ok",
     "timestamp": 1738330988131,
     "user": {
      "displayName": "Manav Mishra",
      "userId": "03081791768232864398"
     },
     "user_tz": -330
    },
    "id": "pVopdQyNl2mp",
    "outputId": "f7555455-cbe2-4e65-a7bb-b38fd5786755"
   },
   "outputs": [
    {
     "name": "stdout",
     "output_type": "stream",
     "text": [
      "[9, 7, 5, 3, 2, 1]\n"
     ]
    }
   ],
   "source": [
    "my_list = [2,7,1,9,3,5]\n",
    "my_list.sort()\n",
    "my_list.sort(reverse=True)\n",
    "\n",
    "print(my_list)"
   ]
  },
  {
   "cell_type": "markdown",
   "metadata": {
    "id": "Kq7QkACJmhmJ"
   },
   "source": [
    "## Tuples"
   ]
  },
  {
   "cell_type": "code",
   "execution_count": 2,
   "metadata": {
    "colab": {
     "base_uri": "https://localhost:8080/"
    },
    "executionInfo": {
     "elapsed": 18,
     "status": "ok",
     "timestamp": 1738331070214,
     "user": {
      "displayName": "Manav Mishra",
      "userId": "03081791768232864398"
     },
     "user_tz": -330
    },
    "id": "gdd6kcXgmD5v",
    "outputId": "cbced041-a9ce-40e9-c41f-54a6f6f8988e"
   },
   "outputs": [
    {
     "name": "stdout",
     "output_type": "stream",
     "text": [
      "<class 'tuple'>\n"
     ]
    }
   ],
   "source": [
    "my_tuple = (1,2,3)\n",
    "print(type(my_tuple))"
   ]
  },
  {
   "cell_type": "code",
   "execution_count": 3,
   "metadata": {
    "id": "AkJVi6icmnFG"
   },
   "outputs": [],
   "source": [
    "new_tuple = (3.14, True, [\"apple\", \"oranges\"], (3,3), 55)"
   ]
  },
  {
   "cell_type": "code",
   "execution_count": 4,
   "metadata": {
    "colab": {
     "base_uri": "https://localhost:8080/",
     "height": 158
    },
    "executionInfo": {
     "elapsed": 19,
     "status": "error",
     "timestamp": 1738331139405,
     "user": {
      "displayName": "Manav Mishra",
      "userId": "03081791768232864398"
     },
     "user_tz": -330
    },
    "id": "AIiOpWVLm6vL",
    "outputId": "f0b1f3ca-b273-42e8-dc72-56cd2ddd071e"
   },
   "outputs": [
    {
     "ename": "TypeError",
     "evalue": "'tuple' object does not support item assignment",
     "output_type": "error",
     "traceback": [
      "\u001b[1;31m---------------------------------------------------------------------------\u001b[0m",
      "\u001b[1;31mTypeError\u001b[0m                                 Traceback (most recent call last)",
      "Cell \u001b[1;32mIn[4], line 1\u001b[0m\n\u001b[1;32m----> 1\u001b[0m \u001b[43mmy_tuple\u001b[49m\u001b[43m[\u001b[49m\u001b[38;5;241;43m0\u001b[39;49m\u001b[43m]\u001b[49m \u001b[38;5;241m=\u001b[39m \u001b[38;5;241m5\u001b[39m\n\u001b[0;32m      2\u001b[0m \u001b[38;5;28mprint\u001b[39m(my_tuple)\n",
      "\u001b[1;31mTypeError\u001b[0m: 'tuple' object does not support item assignment"
     ]
    }
   ],
   "source": [
    "my_tuple[0] = 5\n",
    "print(my_tuple)"
   ]
  },
  {
   "cell_type": "code",
   "execution_count": null,
   "metadata": {
    "colab": {
     "base_uri": "https://localhost:8080/"
    },
    "executionInfo": {
     "elapsed": 422,
     "status": "ok",
     "timestamp": 1738331318935,
     "user": {
      "displayName": "Manav Mishra",
      "userId": "03081791768232864398"
     },
     "user_tz": -330
    },
    "id": "14kmR52jnCob",
    "outputId": "755f4616-28c2-4977-9ac9-ec4fd9381dff"
   },
   "outputs": [
    {
     "name": "stdout",
     "output_type": "stream",
     "text": [
      "List size: 80056\n",
      "Tuple size: 80040\n"
     ]
    }
   ],
   "source": [
    "import sys\n",
    "\n",
    "L = list(range(10000))\n",
    "T = tuple(range(10000))\n",
    "\n",
    "print(\"List size:\", sys.getsizeof(L))\n",
    "print(\"Tuple size:\", sys.getsizeof(T))"
   ]
  },
  {
   "cell_type": "code",
   "execution_count": null,
   "metadata": {
    "colab": {
     "base_uri": "https://localhost:8080/"
    },
    "executionInfo": {
     "elapsed": 630,
     "status": "ok",
     "timestamp": 1738331458137,
     "user": {
      "displayName": "Manav Mishra",
      "userId": "03081791768232864398"
     },
     "user_tz": -330
    },
    "id": "jyJSfgRroPUk",
    "outputId": "9fe51335-c1f4-4286-c7e0-67fe3abdd7c4"
   },
   "outputs": [
    {
     "data": {
      "text/plain": [
       "28"
      ]
     },
     "execution_count": 78,
     "metadata": {},
     "output_type": "execute_result"
    }
   ],
   "source": [
    "sys.getsizeof(1)"
   ]
  },
  {
   "cell_type": "code",
   "execution_count": null,
   "metadata": {
    "colab": {
     "base_uri": "https://localhost:8080/"
    },
    "executionInfo": {
     "elapsed": 10,
     "status": "ok",
     "timestamp": 1738331374922,
     "user": {
      "displayName": "Manav Mishra",
      "userId": "03081791768232864398"
     },
     "user_tz": -330
    },
    "id": "ZF0XTOvdnrsD",
    "outputId": "09f6dffb-10b0-41de-ddec-33bad888b716"
   },
   "outputs": [
    {
     "name": "stdout",
     "output_type": "stream",
     "text": [
      "(5, 10)\n",
      "<class 'tuple'>\n"
     ]
    }
   ],
   "source": [
    "a = 5\n",
    "b = 10\n",
    "\n",
    "c = a, b\n",
    "print(c)\n",
    "print(type(c))"
   ]
  },
  {
   "cell_type": "code",
   "execution_count": 6,
   "metadata": {
    "colab": {
     "base_uri": "https://localhost:8080/"
    },
    "executionInfo": {
     "elapsed": 436,
     "status": "ok",
     "timestamp": 1738332228617,
     "user": {
      "displayName": "Manav Mishra",
      "userId": "03081791768232864398"
     },
     "user_tz": -330
    },
    "id": "WKMf2EZqn5xY",
    "outputId": "fb0cafa6-04f3-459f-cbfe-6f60aefe2b0e"
   },
   "outputs": [
    {
     "name": "stdout",
     "output_type": "stream",
     "text": [
      "(8, 4, 1, 2, 5)\n",
      "((6, 7, 8, 9, 10), (1, 2, 3, 4, 5))\n",
      "(5, 4, 3, 2, 1)\n"
     ]
    }
   ],
   "source": [
    "t1 = (5,2,1,4,8)\n",
    "t2 = ((1,2,3,4,5), (6,7,8,9,10))\n",
    "\n",
    "print(t1[::-1])\n",
    "print(t2[::-1])\n",
    "print(t2[0][::-1])"
   ]
  },
  {
   "cell_type": "code",
   "execution_count": 7,
   "metadata": {
    "colab": {
     "base_uri": "https://localhost:8080/",
     "height": 211
    },
    "executionInfo": {
     "elapsed": 456,
     "status": "error",
     "timestamp": 1738332297310,
     "user": {
      "displayName": "Manav Mishra",
      "userId": "03081791768232864398"
     },
     "user_tz": -330
    },
    "id": "OryjKABLrM0W",
    "outputId": "653c9fe2-59d7-4e15-cc01-357d500de170"
   },
   "outputs": [
    {
     "ename": "AttributeError",
     "evalue": "'tuple' object has no attribute 'insert'",
     "output_type": "error",
     "traceback": [
      "\u001b[1;31m---------------------------------------------------------------------------\u001b[0m",
      "\u001b[1;31mAttributeError\u001b[0m                            Traceback (most recent call last)",
      "Cell \u001b[1;32mIn[7], line 1\u001b[0m\n\u001b[1;32m----> 1\u001b[0m \u001b[43mt1\u001b[49m\u001b[38;5;241;43m.\u001b[39;49m\u001b[43minsert\u001b[49m(\u001b[38;5;241m2\u001b[39m, \u001b[38;5;241m10\u001b[39m)\n\u001b[0;32m      2\u001b[0m \u001b[38;5;28mprint\u001b[39m(t1)\n\u001b[0;32m      4\u001b[0m t1\u001b[38;5;241m.\u001b[39mpop(\u001b[38;5;241m0\u001b[39m)\n",
      "\u001b[1;31mAttributeError\u001b[0m: 'tuple' object has no attribute 'insert'"
     ]
    }
   ],
   "source": [
    "t1.insert(2, 10)\n",
    "print(t1)\n",
    "\n",
    "t1.pop(0)\n",
    "print(t1)"
   ]
  },
  {
   "cell_type": "code",
   "execution_count": null,
   "metadata": {
    "colab": {
     "base_uri": "https://localhost:8080/"
    },
    "executionInfo": {
     "elapsed": 431,
     "status": "ok",
     "timestamp": 1738331940824,
     "user": {
      "displayName": "Manav Mishra",
      "userId": "03081791768232864398"
     },
     "user_tz": -330
    },
    "id": "HHTnzhj9qCKv",
    "outputId": "1402c3fa-a610-4ab2-81f4-a839425abfc1"
   },
   "outputs": [
    {
     "name": "stdout",
     "output_type": "stream",
     "text": [
      "2\n",
      "5\n"
     ]
    }
   ],
   "source": [
    "print(len(t2))\n",
    "print(len(t2[0]))"
   ]
  },
  {
   "cell_type": "code",
   "execution_count": null,
   "metadata": {
    "colab": {
     "base_uri": "https://localhost:8080/"
    },
    "executionInfo": {
     "elapsed": 22,
     "status": "ok",
     "timestamp": 1738331887480,
     "user": {
      "displayName": "Manav Mishra",
      "userId": "03081791768232864398"
     },
     "user_tz": -330
    },
    "id": "Bo38HrS2oy2L",
    "outputId": "7527fe63-cce8-4f23-a82d-fe7971618992"
   },
   "outputs": [
    {
     "name": "stdout",
     "output_type": "stream",
     "text": [
      "5\n",
      "20\n",
      "8\n",
      "1\n",
      "[1, 2, 4, 5, 8]\n",
      "[8, 5, 4, 2, 1]\n"
     ]
    }
   ],
   "source": [
    "print(len(t1))\n",
    "print(sum(t1))\n",
    "print(max(t1))\n",
    "print(min(t1))\n",
    "print(sorted(t1))\n",
    "print(sorted(t1, reverse=True))"
   ]
  },
  {
   "cell_type": "code",
   "execution_count": null,
   "metadata": {
    "colab": {
     "base_uri": "https://localhost:8080/",
     "height": 176
    },
    "executionInfo": {
     "elapsed": 634,
     "status": "error",
     "timestamp": 1738331851054,
     "user": {
      "displayName": "Manav Mishra",
      "userId": "03081791768232864398"
     },
     "user_tz": -330
    },
    "id": "7efV0175pFy8",
    "outputId": "3948b08f-d57d-4ccf-da61-062ab43d7584"
   },
   "outputs": [
    {
     "ename": "TypeError",
     "evalue": "unsupported operand type(s) for +: 'int' and 'str'",
     "output_type": "error",
     "traceback": [
      "\u001b[0;31m---------------------------------------------------------------------------\u001b[0m",
      "\u001b[0;31mTypeError\u001b[0m                                 Traceback (most recent call last)",
      "\u001b[0;32m<ipython-input-86-0be1ed4c43c0>\u001b[0m in \u001b[0;36m<cell line: 0>\u001b[0;34m()\u001b[0m\n\u001b[1;32m      1\u001b[0m \u001b[0mt1\u001b[0m \u001b[0;34m=\u001b[0m \u001b[0;34m(\u001b[0m\u001b[0;36m5\u001b[0m\u001b[0;34m,\u001b[0m\u001b[0;36m2\u001b[0m\u001b[0;34m,\u001b[0m\u001b[0;36m1\u001b[0m\u001b[0;34m,\u001b[0m\u001b[0;34m\"apple\"\u001b[0m\u001b[0;34m,\u001b[0m\u001b[0;36m8\u001b[0m\u001b[0;34m)\u001b[0m\u001b[0;34m\u001b[0m\u001b[0;34m\u001b[0m\u001b[0m\n\u001b[1;32m      2\u001b[0m \u001b[0;34m\u001b[0m\u001b[0m\n\u001b[0;32m----> 3\u001b[0;31m \u001b[0mprint\u001b[0m\u001b[0;34m(\u001b[0m\u001b[0msum\u001b[0m\u001b[0;34m(\u001b[0m\u001b[0mt1\u001b[0m\u001b[0;34m)\u001b[0m\u001b[0;34m)\u001b[0m\u001b[0;34m\u001b[0m\u001b[0;34m\u001b[0m\u001b[0m\n\u001b[0m",
      "\u001b[0;31mTypeError\u001b[0m: unsupported operand type(s) for +: 'int' and 'str'"
     ]
    }
   ],
   "source": [
    "t1 = (5,2,1,\"apple\",8)\n",
    "\n",
    "print(sum(t1))"
   ]
  },
  {
   "cell_type": "code",
   "execution_count": null,
   "metadata": {
    "colab": {
     "base_uri": "https://localhost:8080/",
     "height": 176
    },
    "executionInfo": {
     "elapsed": 437,
     "status": "error",
     "timestamp": 1738332142768,
     "user": {
      "displayName": "Manav Mishra",
      "userId": "03081791768232864398"
     },
     "user_tz": -330
    },
    "id": "IAEVmHIzpwGZ",
    "outputId": "249c8768-dd84-4cf4-9c83-23c4196e5c9b"
   },
   "outputs": [
    {
     "ename": "ValueError",
     "evalue": "too many values to unpack (expected 2)",
     "output_type": "error",
     "traceback": [
      "\u001b[0;31m---------------------------------------------------------------------------\u001b[0m",
      "\u001b[0;31mValueError\u001b[0m                                Traceback (most recent call last)",
      "\u001b[0;32m<ipython-input-94-945fb987012e>\u001b[0m in \u001b[0;36m<cell line: 0>\u001b[0;34m()\u001b[0m\n\u001b[0;32m----> 1\u001b[0;31m \u001b[0ma\u001b[0m\u001b[0;34m,\u001b[0m\u001b[0mb\u001b[0m \u001b[0;34m=\u001b[0m \u001b[0;34m(\u001b[0m\u001b[0;36m1\u001b[0m\u001b[0;34m,\u001b[0m\u001b[0;36m2\u001b[0m\u001b[0;34m,\u001b[0m\u001b[0;36m3\u001b[0m\u001b[0;34m)\u001b[0m\u001b[0;34m,\u001b[0m \u001b[0;34m(\u001b[0m\u001b[0;36m6\u001b[0m\u001b[0;34m,\u001b[0m\u001b[0;36m7\u001b[0m\u001b[0;34m,\u001b[0m\u001b[0;36m8\u001b[0m\u001b[0;34m)\u001b[0m\u001b[0;34m,\u001b[0m \u001b[0;34m(\u001b[0m\u001b[0;36m5\u001b[0m\u001b[0;34m,\u001b[0m\u001b[0;36m9\u001b[0m\u001b[0;34m,\u001b[0m\u001b[0;36m2\u001b[0m\u001b[0;34m)\u001b[0m\u001b[0;34m\u001b[0m\u001b[0;34m\u001b[0m\u001b[0m\n\u001b[0m\u001b[1;32m      2\u001b[0m \u001b[0;34m\u001b[0m\u001b[0m\n\u001b[1;32m      3\u001b[0m \u001b[0mprint\u001b[0m\u001b[0;34m(\u001b[0m\u001b[0ma\u001b[0m\u001b[0;34m)\u001b[0m\u001b[0;34m\u001b[0m\u001b[0;34m\u001b[0m\u001b[0m\n",
      "\u001b[0;31mValueError\u001b[0m: too many values to unpack (expected 2)"
     ]
    }
   ],
   "source": [
    "a,b = (1,2,3), (6,7,8), (5,9,2)\n",
    "\n",
    "print(a)"
   ]
  },
  {
   "cell_type": "code",
   "execution_count": null,
   "metadata": {
    "colab": {
     "base_uri": "https://localhost:8080/",
     "height": 176
    },
    "executionInfo": {
     "elapsed": 455,
     "status": "error",
     "timestamp": 1738332200719,
     "user": {
      "displayName": "Manav Mishra",
      "userId": "03081791768232864398"
     },
     "user_tz": -330
    },
    "id": "ohqX--90qmHw",
    "outputId": "c455d9b3-a684-4faa-a790-01a3c2b2ea03"
   },
   "outputs": [
    {
     "ename": "ValueError",
     "evalue": "not enough values to unpack (expected 3, got 2)",
     "output_type": "error",
     "traceback": [
      "\u001b[0;31m---------------------------------------------------------------------------\u001b[0m",
      "\u001b[0;31mValueError\u001b[0m                                Traceback (most recent call last)",
      "\u001b[0;32m<ipython-input-96-a81a0798a782>\u001b[0m in \u001b[0;36m<cell line: 0>\u001b[0;34m()\u001b[0m\n\u001b[0;32m----> 1\u001b[0;31m \u001b[0ma\u001b[0m\u001b[0;34m,\u001b[0m\u001b[0mb\u001b[0m\u001b[0;34m,\u001b[0m\u001b[0mc\u001b[0m \u001b[0;34m=\u001b[0m \u001b[0;34m(\u001b[0m\u001b[0;36m1\u001b[0m\u001b[0;34m,\u001b[0m\u001b[0;36m2\u001b[0m\u001b[0;34m,\u001b[0m\u001b[0;36m3\u001b[0m\u001b[0;34m)\u001b[0m\u001b[0;34m,\u001b[0m \u001b[0;34m(\u001b[0m\u001b[0;36m6\u001b[0m\u001b[0;34m,\u001b[0m\u001b[0;36m7\u001b[0m\u001b[0;34m,\u001b[0m\u001b[0;36m8\u001b[0m\u001b[0;34m)\u001b[0m\u001b[0;34m\u001b[0m\u001b[0;34m\u001b[0m\u001b[0m\n\u001b[0m\u001b[1;32m      2\u001b[0m \u001b[0;34m\u001b[0m\u001b[0m\n\u001b[1;32m      3\u001b[0m \u001b[0mprint\u001b[0m\u001b[0;34m(\u001b[0m\u001b[0ma\u001b[0m\u001b[0;34m)\u001b[0m\u001b[0;34m\u001b[0m\u001b[0;34m\u001b[0m\u001b[0m\n",
      "\u001b[0;31mValueError\u001b[0m: not enough values to unpack (expected 3, got 2)"
     ]
    }
   ],
   "source": [
    "a,b,c = (1,2,3), (6,7,8)\n",
    "\n",
    "print(a)"
   ]
  },
  {
   "cell_type": "markdown",
   "metadata": {
    "id": "9b_QJhamrHN4"
   },
   "source": [
    "## Sets"
   ]
  },
  {
   "cell_type": "code",
   "execution_count": null,
   "metadata": {
    "colab": {
     "base_uri": "https://localhost:8080/",
     "height": 158
    },
    "executionInfo": {
     "elapsed": 399,
     "status": "error",
     "timestamp": 1738332374463,
     "user": {
      "displayName": "Manav Mishra",
      "userId": "03081791768232864398"
     },
     "user_tz": -330
    },
    "id": "tXktgjaPrDU5",
    "outputId": "3879124c-d06b-4ed9-8b61-d4221ebe9ec0"
   },
   "outputs": [
    {
     "ename": "TypeError",
     "evalue": "'set' object is not subscriptable",
     "output_type": "error",
     "traceback": [
      "\u001b[0;31m---------------------------------------------------------------------------\u001b[0m",
      "\u001b[0;31mTypeError\u001b[0m                                 Traceback (most recent call last)",
      "\u001b[0;32m<ipython-input-102-c3615c7db3cb>\u001b[0m in \u001b[0;36m<cell line: 0>\u001b[0;34m()\u001b[0m\n\u001b[1;32m      1\u001b[0m \u001b[0mset1\u001b[0m \u001b[0;34m=\u001b[0m \u001b[0;34m{\u001b[0m\u001b[0;36m1\u001b[0m\u001b[0;34m,\u001b[0m\u001b[0;36m2\u001b[0m\u001b[0;34m,\u001b[0m\u001b[0;36m3\u001b[0m\u001b[0;34m,\u001b[0m\u001b[0;36m4\u001b[0m\u001b[0;34m,\u001b[0m\u001b[0;36m5\u001b[0m\u001b[0;34m}\u001b[0m\u001b[0;34m\u001b[0m\u001b[0;34m\u001b[0m\u001b[0m\n\u001b[0;32m----> 2\u001b[0;31m \u001b[0mprint\u001b[0m\u001b[0;34m(\u001b[0m\u001b[0mset1\u001b[0m\u001b[0;34m[\u001b[0m\u001b[0;36m0\u001b[0m\u001b[0;34m]\u001b[0m\u001b[0;34m)\u001b[0m\u001b[0;34m\u001b[0m\u001b[0;34m\u001b[0m\u001b[0m\n\u001b[0m",
      "\u001b[0;31mTypeError\u001b[0m: 'set' object is not subscriptable"
     ]
    }
   ],
   "source": [
    "set1 = {1,2,3,4,5}\n",
    "print(set1[0])"
   ]
  },
  {
   "cell_type": "code",
   "execution_count": null,
   "metadata": {
    "colab": {
     "base_uri": "https://localhost:8080/"
    },
    "executionInfo": {
     "elapsed": 495,
     "status": "ok",
     "timestamp": 1738332462626,
     "user": {
      "displayName": "Manav Mishra",
      "userId": "03081791768232864398"
     },
     "user_tz": -330
    },
    "id": "sxXNyJfIrtJv",
    "outputId": "08f6c6d3-7d58-4ece-a410-e4f296c971fc"
   },
   "outputs": [
    {
     "name": "stdout",
     "output_type": "stream",
     "text": [
      "{0, 1, 2, 3, 4, 6, 7, 9, 10}\n",
      "[0, 1, 2, 3, 4, 6, 7, 9, 10]\n"
     ]
    }
   ],
   "source": [
    "list1 = [1,6,6,7,0,2,1,6,9,10,10,2,3,4]\n",
    "set1 = set(list1)\n",
    "print(list(set1))"
   ]
  },
  {
   "cell_type": "code",
   "execution_count": null,
   "metadata": {
    "colab": {
     "base_uri": "https://localhost:8080/"
    },
    "executionInfo": {
     "elapsed": 29,
     "status": "ok",
     "timestamp": 1738332510956,
     "user": {
      "displayName": "Manav Mishra",
      "userId": "03081791768232864398"
     },
     "user_tz": -330
    },
    "id": "-OgH3k7Fr_gs",
    "outputId": "82faba11-8260-4572-883b-779d2291070e"
   },
   "outputs": [
    {
     "name": "stdout",
     "output_type": "stream",
     "text": [
      "[1, 6, 6, 7, 0, 2, 1, 6, 9, 10, 10, 2, 3, 4]\n",
      "[0, 1, 2, 3, 4, 6, 7, 9, 10]\n"
     ]
    }
   ],
   "source": [
    "list1 = [1,6,6,7,0,2,1,6,9,10,10,2,3,4]\n",
    "list2 = list(set(list1))\n",
    "\n",
    "print(list1)\n",
    "print(list2)"
   ]
  },
  {
   "cell_type": "code",
   "execution_count": null,
   "metadata": {
    "colab": {
     "base_uri": "https://localhost:8080/"
    },
    "executionInfo": {
     "elapsed": 8,
     "status": "ok",
     "timestamp": 1738332551345,
     "user": {
      "displayName": "Manav Mishra",
      "userId": "03081791768232864398"
     },
     "user_tz": -330
    },
    "id": "5uRBGMEmsRPR",
    "outputId": "8235e06e-b8db-4de0-b9e1-808c630fbb21"
   },
   "outputs": [
    {
     "name": "stdout",
     "output_type": "stream",
     "text": [
      "(1, 2, 3, 4, 5, 6)\n"
     ]
    }
   ],
   "source": [
    "t1 = (1,2,3)\n",
    "t2 = (4,5,6)\n",
    "\n",
    "print(t1+t2)"
   ]
  },
  {
   "cell_type": "code",
   "execution_count": null,
   "metadata": {
    "colab": {
     "base_uri": "https://localhost:8080/"
    },
    "executionInfo": {
     "elapsed": 421,
     "status": "ok",
     "timestamp": 1738332568795,
     "user": {
      "displayName": "Manav Mishra",
      "userId": "03081791768232864398"
     },
     "user_tz": -330
    },
    "id": "w1xsGQWvsbUv",
    "outputId": "498513e0-65bb-44ce-bbae-bc3f601f7567"
   },
   "outputs": [
    {
     "name": "stdout",
     "output_type": "stream",
     "text": [
      "[1, 2, 3, 4, 5, 6]\n"
     ]
    }
   ],
   "source": [
    "l1 = [1,2,3]\n",
    "l2 = [4,5,6]\n",
    "\n",
    "print(l1+l2)"
   ]
  },
  {
   "cell_type": "code",
   "execution_count": null,
   "metadata": {
    "colab": {
     "base_uri": "https://localhost:8080/"
    },
    "executionInfo": {
     "elapsed": 8,
     "status": "ok",
     "timestamp": 1738332608807,
     "user": {
      "displayName": "Manav Mishra",
      "userId": "03081791768232864398"
     },
     "user_tz": -330
    },
    "id": "HjL2RCTysfcE",
    "outputId": "ae5471fc-a4f1-4d4f-d060-01bd1ac8c60e"
   },
   "outputs": [
    {
     "name": "stdout",
     "output_type": "stream",
     "text": [
      "[1, 2, 3, 1, 2, 3, 1, 2, 3]\n"
     ]
    }
   ],
   "source": [
    "l1 = [1,2,3] * 3\n",
    "\n",
    "print(l1)"
   ]
  },
  {
   "cell_type": "code",
   "execution_count": null,
   "metadata": {
    "colab": {
     "base_uri": "https://localhost:8080/",
     "height": 35
    },
    "executionInfo": {
     "elapsed": 440,
     "status": "ok",
     "timestamp": 1738332689200,
     "user": {
      "displayName": "Manav Mishra",
      "userId": "03081791768232864398"
     },
     "user_tz": -330
    },
    "id": "Cm9mEuOospXe",
    "outputId": "2c2f0861-88f0-410a-8635-15e9bd60ce7e"
   },
   "outputs": [
    {
     "data": {
      "application/vnd.google.colaboratory.intrinsic+json": {
       "type": "string"
      },
      "text/plain": [
       "'johnbob'"
      ]
     },
     "execution_count": 109,
     "metadata": {},
     "output_type": "execute_result"
    }
   ],
   "source": [
    "\"john\" + \"bob\""
   ]
  },
  {
   "cell_type": "code",
   "execution_count": null,
   "metadata": {
    "colab": {
     "base_uri": "https://localhost:8080/"
    },
    "executionInfo": {
     "elapsed": 387,
     "status": "ok",
     "timestamp": 1738332701300,
     "user": {
      "displayName": "Manav Mishra",
      "userId": "03081791768232864398"
     },
     "user_tz": -330
    },
    "id": "OrjXVIuCs87Y",
    "outputId": "bb80cf2f-372e-4a29-e703-87d11e61154c"
   },
   "outputs": [
    {
     "data": {
      "text/plain": [
       "6"
      ]
     },
     "execution_count": 110,
     "metadata": {},
     "output_type": "execute_result"
    }
   ],
   "source": [
    "3 + 3"
   ]
  },
  {
   "cell_type": "code",
   "execution_count": null,
   "metadata": {
    "colab": {
     "base_uri": "https://localhost:8080/"
    },
    "executionInfo": {
     "elapsed": 414,
     "status": "ok",
     "timestamp": 1738332817378,
     "user": {
      "displayName": "Manav Mishra",
      "userId": "03081791768232864398"
     },
     "user_tz": -330
    },
    "id": "laVtuKLFs_5O",
    "outputId": "f8c1f09b-1783-4491-ed9c-1a8332981847"
   },
   "outputs": [
    {
     "name": "stdout",
     "output_type": "stream",
     "text": [
      "{1, 3.14, 'apple'}\n"
     ]
    }
   ],
   "source": [
    "set2 = {1, True, 3.14, \"apple\", \"apple\", True}\n",
    "print(set2)"
   ]
  },
  {
   "cell_type": "code",
   "execution_count": null,
   "metadata": {
    "colab": {
     "base_uri": "https://localhost:8080/"
    },
    "executionInfo": {
     "elapsed": 394,
     "status": "ok",
     "timestamp": 1738332859680,
     "user": {
      "displayName": "Manav Mishra",
      "userId": "03081791768232864398"
     },
     "user_tz": -330
    },
    "id": "R1RIA0NRtJSA",
    "outputId": "91c1afa6-531e-48c7-d4eb-50b1c4b3b339"
   },
   "outputs": [
    {
     "name": "stdout",
     "output_type": "stream",
     "text": [
      "{1, 'apple'}\n"
     ]
    }
   ],
   "source": [
    "b = True\n",
    "set3 = {1, b, \"apple\"}\n",
    "print(set3)"
   ]
  },
  {
   "cell_type": "code",
   "execution_count": null,
   "metadata": {
    "colab": {
     "base_uri": "https://localhost:8080/"
    },
    "executionInfo": {
     "elapsed": 383,
     "status": "ok",
     "timestamp": 1738332913287,
     "user": {
      "displayName": "Manav Mishra",
      "userId": "03081791768232864398"
     },
     "user_tz": -330
    },
    "id": "edei860JtWmh",
    "outputId": "889cb382-a41c-4497-a885-8589565cadca"
   },
   "outputs": [
    {
     "name": "stdout",
     "output_type": "stream",
     "text": [
      "{2, 3, 4, 5, 6, 7, 8, 9, 10}\n",
      "{2}\n"
     ]
    }
   ],
   "source": [
    "set1 = {2,4,6,8,10}\n",
    "set2 = {2,3,5,7,9}\n",
    "\n",
    "print(set1 | set2) # Union\n",
    "print(set1 & set2) # Intersection"
   ]
  },
  {
   "cell_type": "code",
   "execution_count": null,
   "metadata": {
    "colab": {
     "base_uri": "https://localhost:8080/"
    },
    "executionInfo": {
     "elapsed": 396,
     "status": "ok",
     "timestamp": 1738333085892,
     "user": {
      "displayName": "Manav Mishra",
      "userId": "03081791768232864398"
     },
     "user_tz": -330
    },
    "id": "_duaBBZBt8nH",
    "outputId": "24d793c3-3a22-4ee1-81cc-69e9a9100186"
   },
   "outputs": [
    {
     "name": "stdout",
     "output_type": "stream",
     "text": [
      "{2, 4, 5, 6, 7, 8, 10}\n",
      "{2, 4, 5, 6, 7, 8, 10, 15}\n"
     ]
    }
   ],
   "source": [
    "set1.update({5,6,7})\n",
    "print(set1)\n",
    "\n",
    "set1.add(15)\n",
    "print(set1)"
   ]
  },
  {
   "cell_type": "code",
   "execution_count": null,
   "metadata": {
    "id": "Y3K1cxYyuOVz"
   },
   "outputs": [],
   "source": [
    "set1.add(7)"
   ]
  },
  {
   "cell_type": "code",
   "execution_count": null,
   "metadata": {
    "colab": {
     "base_uri": "https://localhost:8080/",
     "height": 158
    },
    "executionInfo": {
     "elapsed": 432,
     "status": "error",
     "timestamp": 1738333114546,
     "user": {
      "displayName": "Manav Mishra",
      "userId": "03081791768232864398"
     },
     "user_tz": -330
    },
    "id": "EaBDA-2FuVI6",
    "outputId": "5dd38389-fa3b-492c-c9d9-058e51f89d54"
   },
   "outputs": [
    {
     "ename": "NameError",
     "evalue": "name 'set2' is not defined",
     "output_type": "error",
     "traceback": [
      "\u001b[0;31m---------------------------------------------------------------------------\u001b[0m",
      "\u001b[0;31mNameError\u001b[0m                                 Traceback (most recent call last)",
      "\u001b[0;32m<ipython-input-126-8dc9f1d0eb4d>\u001b[0m in \u001b[0;36m<cell line: 0>\u001b[0;34m()\u001b[0m\n\u001b[0;32m----> 1\u001b[0;31m \u001b[0;32mdel\u001b[0m \u001b[0mset2\u001b[0m\u001b[0;34m\u001b[0m\u001b[0;34m\u001b[0m\u001b[0m\n\u001b[0m\u001b[1;32m      2\u001b[0m \u001b[0mprint\u001b[0m\u001b[0;34m(\u001b[0m\u001b[0mset2\u001b[0m\u001b[0;34m)\u001b[0m\u001b[0;34m\u001b[0m\u001b[0;34m\u001b[0m\u001b[0m\n",
      "\u001b[0;31mNameError\u001b[0m: name 'set2' is not defined"
     ]
    }
   ],
   "source": [
    "del set2\n",
    "print(set2)"
   ]
  },
  {
   "cell_type": "code",
   "execution_count": null,
   "metadata": {
    "colab": {
     "base_uri": "https://localhost:8080/",
     "height": 158
    },
    "executionInfo": {
     "elapsed": 406,
     "status": "error",
     "timestamp": 1738333165500,
     "user": {
      "displayName": "Manav Mishra",
      "userId": "03081791768232864398"
     },
     "user_tz": -330
    },
    "id": "XpsTPWnSujvk",
    "outputId": "cdd4bf79-39b2-4b31-a86b-fb627213c978"
   },
   "outputs": [
    {
     "ename": "AttributeError",
     "evalue": "'list' object has no attribute 'add'",
     "output_type": "error",
     "traceback": [
      "\u001b[0;31m---------------------------------------------------------------------------\u001b[0m",
      "\u001b[0;31mAttributeError\u001b[0m                            Traceback (most recent call last)",
      "\u001b[0;32m<ipython-input-128-9eaf42ac1eb9>\u001b[0m in \u001b[0;36m<cell line: 0>\u001b[0;34m()\u001b[0m\n\u001b[0;32m----> 1\u001b[0;31m \u001b[0ml1\u001b[0m\u001b[0;34m.\u001b[0m\u001b[0madd\u001b[0m\u001b[0;34m(\u001b[0m\u001b[0;36m5\u001b[0m\u001b[0;34m)\u001b[0m\u001b[0;34m\u001b[0m\u001b[0;34m\u001b[0m\u001b[0m\n\u001b[0m\u001b[1;32m      2\u001b[0m \u001b[0mprint\u001b[0m\u001b[0;34m(\u001b[0m\u001b[0ml1\u001b[0m\u001b[0;34m)\u001b[0m\u001b[0;34m\u001b[0m\u001b[0;34m\u001b[0m\u001b[0m\n",
      "\u001b[0;31mAttributeError\u001b[0m: 'list' object has no attribute 'add'"
     ]
    }
   ],
   "source": [
    "l1.add(5)\n",
    "print(l1)"
   ]
  },
  {
   "cell_type": "code",
   "execution_count": null,
   "metadata": {
    "colab": {
     "base_uri": "https://localhost:8080/"
    },
    "executionInfo": {
     "elapsed": 391,
     "status": "ok",
     "timestamp": 1738333222797,
     "user": {
      "displayName": "Manav Mishra",
      "userId": "03081791768232864398"
     },
     "user_tz": -330
    },
    "id": "4_039_2Gupfx",
    "outputId": "6a5fc908-e04f-420f-87c2-b33f8662b5e2"
   },
   "outputs": [
    {
     "name": "stdout",
     "output_type": "stream",
     "text": [
      "{2, 4, 6, 8, 10}\n"
     ]
    }
   ],
   "source": [
    "set1 = {2,4,6,8,10,15}\n",
    "\n",
    "set1.remove(15)\n",
    "print(set1)"
   ]
  },
  {
   "cell_type": "markdown",
   "metadata": {
    "id": "Fr6RFhDjvH-5"
   },
   "source": []
  },
  {
   "cell_type": "code",
   "execution_count": null,
   "metadata": {
    "colab": {
     "base_uri": "https://localhost:8080/",
     "height": 193
    },
    "executionInfo": {
     "elapsed": 423,
     "status": "error",
     "timestamp": 1738333302912,
     "user": {
      "displayName": "Manav Mishra",
      "userId": "03081791768232864398"
     },
     "user_tz": -330
    },
    "id": "holAisyEu3Ed",
    "outputId": "7245ac4c-15a8-42a2-e3d9-33fee4062178"
   },
   "outputs": [
    {
     "ename": "TypeError",
     "evalue": "'tuple' object does not support item assignment",
     "output_type": "error",
     "traceback": [
      "\u001b[0;31m---------------------------------------------------------------------------\u001b[0m",
      "\u001b[0;31mTypeError\u001b[0m                                 Traceback (most recent call last)",
      "\u001b[0;32m<ipython-input-133-3e7686a42871>\u001b[0m in \u001b[0;36m<cell line: 0>\u001b[0;34m()\u001b[0m\n\u001b[1;32m      1\u001b[0m \u001b[0mt1\u001b[0m \u001b[0;34m=\u001b[0m \u001b[0;34m(\u001b[0m\u001b[0;36m5\u001b[0m\u001b[0;34m,\u001b[0m\u001b[0;36m6\u001b[0m\u001b[0;34m,\u001b[0m\u001b[0;36m7\u001b[0m\u001b[0;34m)\u001b[0m\u001b[0;34m\u001b[0m\u001b[0;34m\u001b[0m\u001b[0m\n\u001b[0;32m----> 2\u001b[0;31m \u001b[0mt1\u001b[0m\u001b[0;34m[\u001b[0m\u001b[0;36m0\u001b[0m\u001b[0;34m]\u001b[0m \u001b[0;34m=\u001b[0m \u001b[0;36m4\u001b[0m\u001b[0;34m\u001b[0m\u001b[0;34m\u001b[0m\u001b[0m\n\u001b[0m\u001b[1;32m      3\u001b[0m \u001b[0;34m\u001b[0m\u001b[0m\n\u001b[1;32m      4\u001b[0m \u001b[0mprint\u001b[0m\u001b[0;34m(\u001b[0m\u001b[0mt1\u001b[0m\u001b[0;34m)\u001b[0m\u001b[0;34m\u001b[0m\u001b[0;34m\u001b[0m\u001b[0m\n",
      "\u001b[0;31mTypeError\u001b[0m: 'tuple' object does not support item assignment"
     ]
    }
   ],
   "source": [
    "t1 = (5,6,7)\n",
    "t1[0] = 4\n",
    "\n",
    "print(t1)"
   ]
  },
  {
   "cell_type": "code",
   "execution_count": null,
   "metadata": {
    "colab": {
     "base_uri": "https://localhost:8080/"
    },
    "executionInfo": {
     "elapsed": 22,
     "status": "ok",
     "timestamp": 1738333312737,
     "user": {
      "displayName": "Manav Mishra",
      "userId": "03081791768232864398"
     },
     "user_tz": -330
    },
    "id": "MD7kg_StvSjS",
    "outputId": "2ab0e6bb-9547-47d5-82c4-b75ad4a8e26b"
   },
   "outputs": [
    {
     "name": "stdout",
     "output_type": "stream",
     "text": [
      "[4, 6, 7]\n"
     ]
    }
   ],
   "source": [
    "t1 = [5,6,7]\n",
    "t1[0] = 4\n",
    "\n",
    "print(t1)"
   ]
  },
  {
   "cell_type": "markdown",
   "metadata": {
    "id": "vZo3JC9mvcBS"
   },
   "source": [
    "## Dictionary"
   ]
  },
  {
   "cell_type": "code",
   "execution_count": null,
   "metadata": {
    "colab": {
     "base_uri": "https://localhost:8080/"
    },
    "executionInfo": {
     "elapsed": 399,
     "status": "ok",
     "timestamp": 1738333432168,
     "user": {
      "displayName": "Manav Mishra",
      "userId": "03081791768232864398"
     },
     "user_tz": -330
    },
    "id": "e8XSQHwnvVOU",
    "outputId": "304ad4fc-d449-4807-c29a-1346c7f5d462"
   },
   "outputs": [
    {
     "name": "stdout",
     "output_type": "stream",
     "text": [
      "{'name': 'John', 'age': 30, 'city': 'New York'}\n",
      "John\n",
      "30\n",
      "New York\n"
     ]
    }
   ],
   "source": [
    "d1 = {\"name\": \"John\", \"age\": 30, \"city\": \"New York\"}\n",
    "\n",
    "print(d1)\n",
    "print(d1[\"name\"])\n",
    "print(d1[\"age\"])\n",
    "print(d1[\"city\"])"
   ]
  },
  {
   "cell_type": "code",
   "execution_count": null,
   "metadata": {
    "colab": {
     "base_uri": "https://localhost:8080/"
    },
    "executionInfo": {
     "elapsed": 636,
     "status": "ok",
     "timestamp": 1738333511338,
     "user": {
      "displayName": "Manav Mishra",
      "userId": "03081791768232864398"
     },
     "user_tz": -330
    },
    "id": "oxY6HUrBvlkO",
    "outputId": "a42ef0ae-3bb7-4e60-e355-f6e1a20655ed"
   },
   "outputs": [
    {
     "name": "stdout",
     "output_type": "stream",
     "text": [
      "manav\n",
      "25\n",
      "delhi\n"
     ]
    }
   ],
   "source": [
    "d2_candidate = {\"name\": \"manav\", \"age\": 25, \"city\": \"delhi\"}\n",
    "\n",
    "print(d2_candidate[\"name\"])\n",
    "print(d2_candidate[\"age\"])\n",
    "print(d2_candidate[\"city\"])"
   ]
  },
  {
   "cell_type": "code",
   "execution_count": null,
   "metadata": {
    "colab": {
     "base_uri": "https://localhost:8080/"
    },
    "executionInfo": {
     "elapsed": 418,
     "status": "ok",
     "timestamp": 1738333566218,
     "user": {
      "displayName": "Manav Mishra",
      "userId": "03081791768232864398"
     },
     "user_tz": -330
    },
    "id": "-1P1ODYswC0y",
    "outputId": "948f22c1-06a5-4b15-de02-85e525b18bb5"
   },
   "outputs": [
    {
     "name": "stdout",
     "output_type": "stream",
     "text": [
      "John\n",
      "John\n"
     ]
    }
   ],
   "source": [
    "d1 = {\"name\": \"John\", \"age\": 30, \"city\": \"New York\"}\n",
    "\n",
    "print(d1.get(\"name\"))\n",
    "print(d1[\"name\"])"
   ]
  },
  {
   "cell_type": "code",
   "execution_count": null,
   "metadata": {
    "colab": {
     "base_uri": "https://localhost:8080/"
    },
    "executionInfo": {
     "elapsed": 377,
     "status": "ok",
     "timestamp": 1738333615263,
     "user": {
      "displayName": "Manav Mishra",
      "userId": "03081791768232864398"
     },
     "user_tz": -330
    },
    "id": "0q2Kyz74wJc5",
    "outputId": "8fbb5d95-8d2d-409b-c4f6-964143ad806e"
   },
   "outputs": [
    {
     "name": "stdout",
     "output_type": "stream",
     "text": [
      "dict_keys(['name', 'age', 'city'])\n",
      "dict_values(['John', 30, 'New York'])\n",
      "dict_items([('name', 'John'), ('age', 30), ('city', 'New York')])\n"
     ]
    }
   ],
   "source": [
    "print(d1.keys())\n",
    "print(d1.values())\n",
    "\n",
    "print(d1.items())"
   ]
  },
  {
   "cell_type": "code",
   "execution_count": null,
   "metadata": {
    "colab": {
     "base_uri": "https://localhost:8080/",
     "height": 141
    },
    "executionInfo": {
     "elapsed": 401,
     "status": "error",
     "timestamp": 1738333659832,
     "user": {
      "displayName": "Manav Mishra",
      "userId": "03081791768232864398"
     },
     "user_tz": -330
    },
    "id": "dLbqNi-LwfCH",
    "outputId": "a0208206-9962-4c2a-f7ac-40ad252917c0"
   },
   "outputs": [
    {
     "ename": "KeyError",
     "evalue": "'John'",
     "output_type": "error",
     "traceback": [
      "\u001b[0;31m---------------------------------------------------------------------------\u001b[0m",
      "\u001b[0;31mKeyError\u001b[0m                                  Traceback (most recent call last)",
      "\u001b[0;32m<ipython-input-146-b84df07ce659>\u001b[0m in \u001b[0;36m<cell line: 0>\u001b[0;34m()\u001b[0m\n\u001b[0;32m----> 1\u001b[0;31m \u001b[0mprint\u001b[0m\u001b[0;34m(\u001b[0m\u001b[0md1\u001b[0m\u001b[0;34m[\u001b[0m\u001b[0;34m\"John\"\u001b[0m\u001b[0;34m]\u001b[0m\u001b[0;34m)\u001b[0m\u001b[0;34m\u001b[0m\u001b[0;34m\u001b[0m\u001b[0m\n\u001b[0m",
      "\u001b[0;31mKeyError\u001b[0m: 'John'"
     ]
    }
   ],
   "source": [
    "print(d1[\"John\"])"
   ]
  },
  {
   "cell_type": "code",
   "execution_count": null,
   "metadata": {
    "colab": {
     "base_uri": "https://localhost:8080/"
    },
    "executionInfo": {
     "elapsed": 505,
     "status": "ok",
     "timestamp": 1738333688063,
     "user": {
      "displayName": "Manav Mishra",
      "userId": "03081791768232864398"
     },
     "user_tz": -330
    },
    "id": "aRg50RKwwm7j",
    "outputId": "cbda23c3-7fed-4e10-a7f9-729a8294b39a"
   },
   "outputs": [
    {
     "name": "stdout",
     "output_type": "stream",
     "text": [
      "None\n"
     ]
    }
   ],
   "source": [
    "print(d1.get(\"John\"))"
   ]
  },
  {
   "cell_type": "code",
   "execution_count": null,
   "metadata": {
    "colab": {
     "base_uri": "https://localhost:8080/"
    },
    "executionInfo": {
     "elapsed": 388,
     "status": "ok",
     "timestamp": 1738333779199,
     "user": {
      "displayName": "Manav Mishra",
      "userId": "03081791768232864398"
     },
     "user_tz": -330
    },
    "id": "knlQ_ultwu3w",
    "outputId": "8f5f3d9b-a353-492c-9e8f-4b9c837a10a3"
   },
   "outputs": [
    {
     "name": "stdout",
     "output_type": "stream",
     "text": [
      "{'name': 'John', 'age': 30, 'city': 'New York'}\n",
      "{'name': 'Jack', 'age': 30, 'city': 'New York'}\n"
     ]
    }
   ],
   "source": [
    "print(d1)\n",
    "\n",
    "d1[\"name\"] = \"Jack\"\n",
    "print(d1)"
   ]
  },
  {
   "cell_type": "code",
   "execution_count": null,
   "metadata": {
    "id": "JUwDz51SxDDh"
   },
   "outputs": [],
   "source": []
  }
 ],
 "metadata": {
  "colab": {
   "provenance": [
    {
     "file_id": "1uU6LUYixeFFtr_MVDfL31bVKSbpGAAvm",
     "timestamp": 1738349595719
    }
   ]
  },
  "kernelspec": {
   "display_name": "Python 3 (ipykernel)",
   "language": "python",
   "name": "python3"
  },
  "language_info": {
   "codemirror_mode": {
    "name": "ipython",
    "version": 3
   },
   "file_extension": ".py",
   "mimetype": "text/x-python",
   "name": "python",
   "nbconvert_exporter": "python",
   "pygments_lexer": "ipython3",
   "version": "3.12.7"
  }
 },
 "nbformat": 4,
 "nbformat_minor": 4
}
